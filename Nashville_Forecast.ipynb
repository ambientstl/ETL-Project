{
 "cells": [
  {
   "cell_type": "code",
   "execution_count": null,
   "metadata": {},
   "outputs": [],
   "source": [
    "import requests\n",
    "import json\n",
    "import forecastio\n",
    "from geopy.geocoders import Nominatim\n",
    "import pandas as pd\n",
    "import import_ipynb\n",
    "from Nashville_airbnb import Nashville_airbnb\n",
    "import datetime as dt\n",
    "from config import api_key"
   ]
  },
  {
   "cell_type": "code",
   "execution_count": null,
   "metadata": {},
   "outputs": [],
   "source": [
    "geolocator = Nominatim(user_agent=\"ETL_Project\")\n",
    "\n",
    "location = geolocator.geocode(\"Nashville, TN\")\n",
    "\n",
    "NV_coord = []\n",
    "NV_coord.append(location.latitude)\n",
    "NV_coord.append(location.longitude)\n",
    "\n",
    "NV_coord"
   ]
  },
  {
   "cell_type": "code",
   "execution_count": null,
   "metadata": {},
   "outputs": [],
   "source": [
    "forecast = forecastio.load_forecast(api_key, NV_coord[0], NV_coord[1])\n",
    "\n",
    "byDay = forecast.daily()\n",
    "print(byDay.summary)\n",
    "print(byDay.icon)\n",
    "print(byDay.data[4].temperatureHigh)"
   ]
  },
  {
   "cell_type": "code",
   "execution_count": null,
   "metadata": {},
   "outputs": [],
   "source": [
    "temp_high = []\n",
    "temp_low = []\n",
    "precip_perc = []\n",
    "precip_type = []\n",
    "precip_int = []\n",
    "date = []\n",
    "\n",
    "for i in byDay.data:\n",
    "    date.append(i.time.date())\n",
    "    temp_high.append(i.temperatureHigh)\n",
    "    temp_low.append(i.temperatureLow)\n",
    "    precip_perc.append(i.precipProbability)\n",
    "    precip_int.append(i.precipIntensity)\n",
    "    try:\n",
    "        precip_type.append(i.precipType)\n",
    "    except:\n",
    "        precip_type.append(\"none\")\n",
    "\n",
    "date\n",
    "\n",
    "dates = [dt.datetime.strftime(i, '%Y-%m-%d') for i in date]\n",
    "dates"
   ]
  },
  {
   "cell_type": "code",
   "execution_count": null,
   "metadata": {},
   "outputs": [],
   "source": [
    "df = pd.DataFrame({\"Date\": dates, \n",
    "                     \"High Temp\": temp_high, \n",
    "                     \"Low Temp\": temp_low, \n",
    "                     \"Precipitation Probability\": precip_perc,\n",
    "                     \"Precipitation Intensity\": precip_int,\n",
    "                     \"Precipitation Type\": precip_type\n",
    "                    })\n",
    "df.dtypes"
   ]
  },
  {
   "cell_type": "code",
   "execution_count": null,
   "metadata": {},
   "outputs": [],
   "source": [
    "Nashville_airbnb.dtypes"
   ]
  },
  {
   "cell_type": "code",
   "execution_count": null,
   "metadata": {},
   "outputs": [],
   "source": [
    "NV_table = pd.merge(df, Nashville_airbnb, on=\"Date\")\n",
    "NV_table"
   ]
  },
  {
   "cell_type": "code",
   "execution_count": null,
   "metadata": {},
   "outputs": [],
   "source": []
  }
 ],
 "metadata": {
  "kernelspec": {
   "display_name": "Python 3",
   "language": "python",
   "name": "python3"
  },
  "language_info": {
   "codemirror_mode": {
    "name": "ipython",
    "version": 3
   },
   "file_extension": ".py",
   "mimetype": "text/x-python",
   "name": "python",
   "nbconvert_exporter": "python",
   "pygments_lexer": "ipython3",
   "version": "3.6.5"
  }
 },
 "nbformat": 4,
 "nbformat_minor": 2
}
