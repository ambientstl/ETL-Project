{
 "cells": [
  {
   "cell_type": "code",
   "execution_count": 1,
   "metadata": {},
   "outputs": [],
   "source": [
    "import csv\n",
    "import pandas as pd\n",
    "import datetime as dt"
   ]
  },
  {
   "cell_type": "code",
   "execution_count": 2,
   "metadata": {},
   "outputs": [],
   "source": [
    "path = \"Resources/Seattle_calendar.csv\""
   ]
  },
  {
   "cell_type": "code",
   "execution_count": 3,
   "metadata": {},
   "outputs": [],
   "source": [
    "df1 = pd.read_csv(path)"
   ]
  },
  {
   "cell_type": "code",
   "execution_count": 4,
   "metadata": {},
   "outputs": [
    {
     "data": {
      "text/html": [
       "<div>\n",
       "<style scoped>\n",
       "    .dataframe tbody tr th:only-of-type {\n",
       "        vertical-align: middle;\n",
       "    }\n",
       "\n",
       "    .dataframe tbody tr th {\n",
       "        vertical-align: top;\n",
       "    }\n",
       "\n",
       "    .dataframe thead th {\n",
       "        text-align: right;\n",
       "    }\n",
       "</style>\n",
       "<table border=\"1\" class=\"dataframe\">\n",
       "  <thead>\n",
       "    <tr style=\"text-align: right;\">\n",
       "      <th></th>\n",
       "      <th>listing_id</th>\n",
       "      <th>date</th>\n",
       "      <th>available</th>\n",
       "      <th>price</th>\n",
       "    </tr>\n",
       "  </thead>\n",
       "  <tbody>\n",
       "    <tr>\n",
       "      <th>0</th>\n",
       "      <td>103908</td>\n",
       "      <td>2019-08-07</td>\n",
       "      <td>t</td>\n",
       "      <td>$200.00</td>\n",
       "    </tr>\n",
       "    <tr>\n",
       "      <th>1</th>\n",
       "      <td>103908</td>\n",
       "      <td>2019-08-06</td>\n",
       "      <td>t</td>\n",
       "      <td>$200.00</td>\n",
       "    </tr>\n",
       "    <tr>\n",
       "      <th>2</th>\n",
       "      <td>103908</td>\n",
       "      <td>2019-08-05</td>\n",
       "      <td>t</td>\n",
       "      <td>$200.00</td>\n",
       "    </tr>\n",
       "    <tr>\n",
       "      <th>3</th>\n",
       "      <td>103908</td>\n",
       "      <td>2019-08-04</td>\n",
       "      <td>t</td>\n",
       "      <td>$200.00</td>\n",
       "    </tr>\n",
       "    <tr>\n",
       "      <th>4</th>\n",
       "      <td>103908</td>\n",
       "      <td>2019-08-03</td>\n",
       "      <td>t</td>\n",
       "      <td>$209.00</td>\n",
       "    </tr>\n",
       "  </tbody>\n",
       "</table>\n",
       "</div>"
      ],
      "text/plain": [
       "   listing_id        date available    price\n",
       "0      103908  2019-08-07         t  $200.00\n",
       "1      103908  2019-08-06         t  $200.00\n",
       "2      103908  2019-08-05         t  $200.00\n",
       "3      103908  2019-08-04         t  $200.00\n",
       "4      103908  2019-08-03         t  $209.00"
      ]
     },
     "execution_count": 4,
     "metadata": {},
     "output_type": "execute_result"
    }
   ],
   "source": [
    "df1.head()"
   ]
  },
  {
   "cell_type": "code",
   "execution_count": 5,
   "metadata": {},
   "outputs": [],
   "source": [
    "df1 = df1.sort_values(by=\"date\",ascending= True)"
   ]
  },
  {
   "cell_type": "code",
   "execution_count": 6,
   "metadata": {
    "scrolled": true
   },
   "outputs": [
    {
     "data": {
      "text/html": [
       "<div>\n",
       "<style scoped>\n",
       "    .dataframe tbody tr th:only-of-type {\n",
       "        vertical-align: middle;\n",
       "    }\n",
       "\n",
       "    .dataframe tbody tr th {\n",
       "        vertical-align: top;\n",
       "    }\n",
       "\n",
       "    .dataframe thead th {\n",
       "        text-align: right;\n",
       "    }\n",
       "</style>\n",
       "<table border=\"1\" class=\"dataframe\">\n",
       "  <thead>\n",
       "    <tr style=\"text-align: right;\">\n",
       "      <th></th>\n",
       "      <th>listing_id</th>\n",
       "      <th>date</th>\n",
       "      <th>available</th>\n",
       "      <th>price</th>\n",
       "    </tr>\n",
       "  </thead>\n",
       "  <tbody>\n",
       "    <tr>\n",
       "      <th>3190099</th>\n",
       "      <td>29929168</td>\n",
       "      <td>2018-11-15</td>\n",
       "      <td>f</td>\n",
       "      <td>NaN</td>\n",
       "    </tr>\n",
       "    <tr>\n",
       "      <th>1392775</th>\n",
       "      <td>16389086</td>\n",
       "      <td>2018-11-15</td>\n",
       "      <td>f</td>\n",
       "      <td>NaN</td>\n",
       "    </tr>\n",
       "    <tr>\n",
       "      <th>1392824</th>\n",
       "      <td>16602889</td>\n",
       "      <td>2018-11-15</td>\n",
       "      <td>t</td>\n",
       "      <td>$79.00</td>\n",
       "    </tr>\n",
       "    <tr>\n",
       "      <th>1392840</th>\n",
       "      <td>16894346</td>\n",
       "      <td>2018-11-15</td>\n",
       "      <td>f</td>\n",
       "      <td>NaN</td>\n",
       "    </tr>\n",
       "    <tr>\n",
       "      <th>2898018</th>\n",
       "      <td>27486354</td>\n",
       "      <td>2018-11-15</td>\n",
       "      <td>t</td>\n",
       "      <td>$65.00</td>\n",
       "    </tr>\n",
       "  </tbody>\n",
       "</table>\n",
       "</div>"
      ],
      "text/plain": [
       "         listing_id        date available   price\n",
       "3190099    29929168  2018-11-15         f     NaN\n",
       "1392775    16389086  2018-11-15         f     NaN\n",
       "1392824    16602889  2018-11-15         t  $79.00\n",
       "1392840    16894346  2018-11-15         f     NaN\n",
       "2898018    27486354  2018-11-15         t  $65.00"
      ]
     },
     "execution_count": 6,
     "metadata": {},
     "output_type": "execute_result"
    }
   ],
   "source": [
    "df1.head()"
   ]
  },
  {
   "cell_type": "code",
   "execution_count": 7,
   "metadata": {},
   "outputs": [
    {
     "data": {
      "text/plain": [
       "listing_id     int64\n",
       "date          object\n",
       "available     object\n",
       "price         object\n",
       "dtype: object"
      ]
     },
     "execution_count": 7,
     "metadata": {},
     "output_type": "execute_result"
    }
   ],
   "source": [
    "df1.dtypes"
   ]
  },
  {
   "cell_type": "code",
   "execution_count": 8,
   "metadata": {},
   "outputs": [],
   "source": [
    "df2 = df1\n",
    "timefmt = \"%Y-%m-%d\" \n",
    "df2['date'] = pd.to_datetime(df2['date'], format = timefmt, errors='coerce')"
   ]
  },
  {
   "cell_type": "code",
   "execution_count": 9,
   "metadata": {},
   "outputs": [
    {
     "data": {
      "text/html": [
       "<div>\n",
       "<style scoped>\n",
       "    .dataframe tbody tr th:only-of-type {\n",
       "        vertical-align: middle;\n",
       "    }\n",
       "\n",
       "    .dataframe tbody tr th {\n",
       "        vertical-align: top;\n",
       "    }\n",
       "\n",
       "    .dataframe thead th {\n",
       "        text-align: right;\n",
       "    }\n",
       "</style>\n",
       "<table border=\"1\" class=\"dataframe\">\n",
       "  <thead>\n",
       "    <tr style=\"text-align: right;\">\n",
       "      <th></th>\n",
       "      <th>listing_id</th>\n",
       "      <th>date</th>\n",
       "      <th>available</th>\n",
       "      <th>price</th>\n",
       "    </tr>\n",
       "  </thead>\n",
       "  <tbody>\n",
       "    <tr>\n",
       "      <th>3190099</th>\n",
       "      <td>29929168</td>\n",
       "      <td>2018-11-15</td>\n",
       "      <td>f</td>\n",
       "      <td>NaN</td>\n",
       "    </tr>\n",
       "    <tr>\n",
       "      <th>1392775</th>\n",
       "      <td>16389086</td>\n",
       "      <td>2018-11-15</td>\n",
       "      <td>f</td>\n",
       "      <td>NaN</td>\n",
       "    </tr>\n",
       "    <tr>\n",
       "      <th>1392824</th>\n",
       "      <td>16602889</td>\n",
       "      <td>2018-11-15</td>\n",
       "      <td>t</td>\n",
       "      <td>$79.00</td>\n",
       "    </tr>\n",
       "    <tr>\n",
       "      <th>1392840</th>\n",
       "      <td>16894346</td>\n",
       "      <td>2018-11-15</td>\n",
       "      <td>f</td>\n",
       "      <td>NaN</td>\n",
       "    </tr>\n",
       "    <tr>\n",
       "      <th>2898018</th>\n",
       "      <td>27486354</td>\n",
       "      <td>2018-11-15</td>\n",
       "      <td>t</td>\n",
       "      <td>$65.00</td>\n",
       "    </tr>\n",
       "  </tbody>\n",
       "</table>\n",
       "</div>"
      ],
      "text/plain": [
       "         listing_id       date available   price\n",
       "3190099    29929168 2018-11-15         f     NaN\n",
       "1392775    16389086 2018-11-15         f     NaN\n",
       "1392824    16602889 2018-11-15         t  $79.00\n",
       "1392840    16894346 2018-11-15         f     NaN\n",
       "2898018    27486354 2018-11-15         t  $65.00"
      ]
     },
     "execution_count": 9,
     "metadata": {},
     "output_type": "execute_result"
    }
   ],
   "source": [
    "df2.head()"
   ]
  },
  {
   "cell_type": "code",
   "execution_count": 10,
   "metadata": {},
   "outputs": [
    {
     "data": {
      "text/plain": [
       "'2018-12-29'"
      ]
     },
     "execution_count": 10,
     "metadata": {},
     "output_type": "execute_result"
    }
   ],
   "source": [
    "today_dt = dt.date.today()\n",
    "today = dt.datetime.strftime(today_dt, '%Y-%m-%d')\n",
    "\n",
    "#extract year, month, and day as integers\n",
    "todayYear = int(dt.datetime.strftime(today_dt, '%Y'))\n",
    "todayMonth = int(dt.datetime.strftime(today_dt, '%m'))\n",
    "todayDay = int(dt.datetime.strftime(today_dt, '%d'))\n",
    "\n",
    "\n",
    "week_later_dt = dt.date(todayYear, todayMonth, todayDay) + dt.timedelta(days=8)\n",
    "week_later = dt.datetime.strftime(week_later_dt, '%Y-%m-%d')\n",
    "week_later"
   ]
  },
  {
   "cell_type": "code",
   "execution_count": 11,
   "metadata": {},
   "outputs": [
    {
     "data": {
      "text/html": [
       "<div>\n",
       "<style scoped>\n",
       "    .dataframe tbody tr th:only-of-type {\n",
       "        vertical-align: middle;\n",
       "    }\n",
       "\n",
       "    .dataframe tbody tr th {\n",
       "        vertical-align: top;\n",
       "    }\n",
       "\n",
       "    .dataframe thead th {\n",
       "        text-align: right;\n",
       "    }\n",
       "</style>\n",
       "<table border=\"1\" class=\"dataframe\">\n",
       "  <thead>\n",
       "    <tr style=\"text-align: right;\">\n",
       "      <th></th>\n",
       "      <th>listing_id</th>\n",
       "      <th>date</th>\n",
       "      <th>available</th>\n",
       "      <th>price</th>\n",
       "    </tr>\n",
       "  </thead>\n",
       "  <tbody>\n",
       "    <tr>\n",
       "      <th>25232</th>\n",
       "      <td>443942</td>\n",
       "      <td>2018-12-21</td>\n",
       "      <td>t</td>\n",
       "      <td>$180.00</td>\n",
       "    </tr>\n",
       "    <tr>\n",
       "      <th>2882270</th>\n",
       "      <td>27809933</td>\n",
       "      <td>2018-12-21</td>\n",
       "      <td>t</td>\n",
       "      <td>$139.00</td>\n",
       "    </tr>\n",
       "    <tr>\n",
       "      <th>2214748</th>\n",
       "      <td>22210613</td>\n",
       "      <td>2018-12-21</td>\n",
       "      <td>t</td>\n",
       "      <td>$228.00</td>\n",
       "    </tr>\n",
       "    <tr>\n",
       "      <th>2858873</th>\n",
       "      <td>27345331</td>\n",
       "      <td>2018-12-21</td>\n",
       "      <td>t</td>\n",
       "      <td>$187.00</td>\n",
       "    </tr>\n",
       "    <tr>\n",
       "      <th>3147326</th>\n",
       "      <td>29334499</td>\n",
       "      <td>2018-12-21</td>\n",
       "      <td>t</td>\n",
       "      <td>$139.00</td>\n",
       "    </tr>\n",
       "  </tbody>\n",
       "</table>\n",
       "</div>"
      ],
      "text/plain": [
       "         listing_id       date available    price\n",
       "25232        443942 2018-12-21         t  $180.00\n",
       "2882270    27809933 2018-12-21         t  $139.00\n",
       "2214748    22210613 2018-12-21         t  $228.00\n",
       "2858873    27345331 2018-12-21         t  $187.00\n",
       "3147326    29334499 2018-12-21         t  $139.00"
      ]
     },
     "execution_count": 11,
     "metadata": {},
     "output_type": "execute_result"
    }
   ],
   "source": [
    "df2 = df2.loc[(df2['date']>=today) & (df2['date']<week_later) & (df2['available']=='t'),:]\n",
    "df2.head()"
   ]
  },
  {
   "cell_type": "code",
   "execution_count": null,
   "metadata": {},
   "outputs": [],
   "source": [
    "\n"
   ]
  },
  {
   "cell_type": "code",
   "execution_count": 12,
   "metadata": {},
   "outputs": [
    {
     "data": {
      "text/plain": [
       "listing_id             int64\n",
       "date          datetime64[ns]\n",
       "available             object\n",
       "price                 object\n",
       "dtype: object"
      ]
     },
     "execution_count": 12,
     "metadata": {},
     "output_type": "execute_result"
    }
   ],
   "source": [
    "df2['price'].value_counts().head()\n",
    "df2.dtypes"
   ]
  },
  {
   "cell_type": "code",
   "execution_count": 13,
   "metadata": {},
   "outputs": [
    {
     "name": "stderr",
     "output_type": "stream",
     "text": [
      "C:\\Users\\karth\\Anaconda3\\lib\\site-packages\\ipykernel_launcher.py:1: SettingWithCopyWarning: \n",
      "A value is trying to be set on a copy of a slice from a DataFrame.\n",
      "Try using .loc[row_indexer,col_indexer] = value instead\n",
      "\n",
      "See the caveats in the documentation: http://pandas.pydata.org/pandas-docs/stable/indexing.html#indexing-view-versus-copy\n",
      "  \"\"\"Entry point for launching an IPython kernel.\n"
     ]
    }
   ],
   "source": [
    "df2[\"new_price\"] = df2[\"price\"].str.strip('$')"
   ]
  },
  {
   "cell_type": "code",
   "execution_count": 14,
   "metadata": {},
   "outputs": [
    {
     "name": "stderr",
     "output_type": "stream",
     "text": [
      "C:\\Users\\karth\\Anaconda3\\lib\\site-packages\\ipykernel_launcher.py:1: SettingWithCopyWarning: \n",
      "A value is trying to be set on a copy of a slice from a DataFrame.\n",
      "Try using .loc[row_indexer,col_indexer] = value instead\n",
      "\n",
      "See the caveats in the documentation: http://pandas.pydata.org/pandas-docs/stable/indexing.html#indexing-view-versus-copy\n",
      "  \"\"\"Entry point for launching an IPython kernel.\n"
     ]
    }
   ],
   "source": [
    "df2[\"new_price\"] = pd.to_numeric(df2[\"new_price\"],errors='coerce')"
   ]
  },
  {
   "cell_type": "code",
   "execution_count": 15,
   "metadata": {},
   "outputs": [
    {
     "data": {
      "text/plain": [
       "listing_id             int64\n",
       "date          datetime64[ns]\n",
       "available             object\n",
       "price                 object\n",
       "new_price            float64\n",
       "dtype: object"
      ]
     },
     "execution_count": 15,
     "metadata": {},
     "output_type": "execute_result"
    }
   ],
   "source": [
    "df2.dtypes"
   ]
  },
  {
   "cell_type": "code",
   "execution_count": 16,
   "metadata": {},
   "outputs": [
    {
     "name": "stderr",
     "output_type": "stream",
     "text": [
      "C:\\Users\\karth\\Anaconda3\\lib\\site-packages\\ipykernel_launcher.py:7: SettingWithCopyWarning: \n",
      "A value is trying to be set on a copy of a slice from a DataFrame.\n",
      "Try using .loc[row_indexer,col_indexer] = value instead\n",
      "\n",
      "See the caveats in the documentation: http://pandas.pydata.org/pandas-docs/stable/indexing.html#indexing-view-versus-copy\n",
      "  import sys\n"
     ]
    }
   ],
   "source": [
    "\n",
    "bins = [0, 50, 100, 150, 200, 250]\n",
    "\n",
    "# Create the names for the four bins\n",
    "group_names = [\"Under $50\", \"$50-100\", \"$100-150\", \"$150-200\", \"$200-250\"]\n",
    "\n",
    "df2[\"price\"] = pd.cut(df2[\"new_price\"], bins, labels=group_names)"
   ]
  },
  {
   "cell_type": "code",
   "execution_count": 17,
   "metadata": {},
   "outputs": [],
   "source": [
    "# today_dt\n",
    "under_50 = []\n",
    "fifty_100 = []\n",
    "hundred_150 = []\n",
    "onefifty_200 = []\n",
    "twohundred_250 = []\n",
    "\n",
    "numdays = 8\n",
    "date_list = [today_dt + dt.timedelta(days=x) for x in range(0, numdays)]\n",
    "\n",
    "date_list = [dt.datetime.strftime(i, '%Y-%m-%d') for i in date_list]\n",
    "date_list\n",
    "\n",
    "for i in date_list:\n",
    "    prices = df2.loc[df2[\"date\"] == i, \"price\"].value_counts()\n",
    "    under_50.append(prices[0])\n",
    "    fifty_100.append(prices[1])\n",
    "    hundred_150.append(prices[2])\n",
    "    onefifty_200.append(prices[3])\n",
    "    twohundred_250.append(prices[4])"
   ]
  },
  {
   "cell_type": "code",
   "execution_count": 18,
   "metadata": {},
   "outputs": [],
   "source": [
    "df3 = pd.DataFrame({\"Date\": date_list, \n",
    "                     \"Under $50\": under_50, \n",
    "                     \"$50-100\": fifty_100, \n",
    "                     \"$100-150\": hundred_150,\n",
    "                     \"$150-200\": onefifty_200,\n",
    "                     \"$200-250\": twohundred_250\n",
    "                    })\n",
    "df3\n",
    "Seattle_airbnb = df3\n",
    "# df3.set_index(\"Date\")"
   ]
  },
  {
   "cell_type": "code",
   "execution_count": 19,
   "metadata": {},
   "outputs": [
    {
     "data": {
      "text/html": [
       "<div>\n",
       "<style scoped>\n",
       "    .dataframe tbody tr th:only-of-type {\n",
       "        vertical-align: middle;\n",
       "    }\n",
       "\n",
       "    .dataframe tbody tr th {\n",
       "        vertical-align: top;\n",
       "    }\n",
       "\n",
       "    .dataframe thead th {\n",
       "        text-align: right;\n",
       "    }\n",
       "</style>\n",
       "<table border=\"1\" class=\"dataframe\">\n",
       "  <thead>\n",
       "    <tr style=\"text-align: right;\">\n",
       "      <th></th>\n",
       "      <th>Date</th>\n",
       "      <th>Under $50</th>\n",
       "      <th>$50-100</th>\n",
       "      <th>$100-150</th>\n",
       "      <th>$150-200</th>\n",
       "      <th>$200-250</th>\n",
       "    </tr>\n",
       "  </thead>\n",
       "  <tbody>\n",
       "    <tr>\n",
       "      <th>0</th>\n",
       "      <td>2018-12-21</td>\n",
       "      <td>384</td>\n",
       "      <td>1360</td>\n",
       "      <td>1223</td>\n",
       "      <td>558</td>\n",
       "      <td>282</td>\n",
       "    </tr>\n",
       "    <tr>\n",
       "      <th>1</th>\n",
       "      <td>2018-12-22</td>\n",
       "      <td>357</td>\n",
       "      <td>1268</td>\n",
       "      <td>1051</td>\n",
       "      <td>571</td>\n",
       "      <td>277</td>\n",
       "    </tr>\n",
       "    <tr>\n",
       "      <th>2</th>\n",
       "      <td>2018-12-23</td>\n",
       "      <td>375</td>\n",
       "      <td>1166</td>\n",
       "      <td>982</td>\n",
       "      <td>531</td>\n",
       "      <td>285</td>\n",
       "    </tr>\n",
       "    <tr>\n",
       "      <th>3</th>\n",
       "      <td>2018-12-24</td>\n",
       "      <td>355</td>\n",
       "      <td>1119</td>\n",
       "      <td>977</td>\n",
       "      <td>545</td>\n",
       "      <td>282</td>\n",
       "    </tr>\n",
       "    <tr>\n",
       "      <th>4</th>\n",
       "      <td>2018-12-25</td>\n",
       "      <td>342</td>\n",
       "      <td>1095</td>\n",
       "      <td>958</td>\n",
       "      <td>532</td>\n",
       "      <td>286</td>\n",
       "    </tr>\n",
       "    <tr>\n",
       "      <th>5</th>\n",
       "      <td>2018-12-26</td>\n",
       "      <td>353</td>\n",
       "      <td>1145</td>\n",
       "      <td>981</td>\n",
       "      <td>540</td>\n",
       "      <td>310</td>\n",
       "    </tr>\n",
       "    <tr>\n",
       "      <th>6</th>\n",
       "      <td>2018-12-27</td>\n",
       "      <td>362</td>\n",
       "      <td>1148</td>\n",
       "      <td>930</td>\n",
       "      <td>565</td>\n",
       "      <td>327</td>\n",
       "    </tr>\n",
       "    <tr>\n",
       "      <th>7</th>\n",
       "      <td>2018-12-28</td>\n",
       "      <td>330</td>\n",
       "      <td>1057</td>\n",
       "      <td>946</td>\n",
       "      <td>543</td>\n",
       "      <td>386</td>\n",
       "    </tr>\n",
       "  </tbody>\n",
       "</table>\n",
       "</div>"
      ],
      "text/plain": [
       "         Date  Under $50  $50-100  $100-150  $150-200  $200-250\n",
       "0  2018-12-21        384     1360      1223       558       282\n",
       "1  2018-12-22        357     1268      1051       571       277\n",
       "2  2018-12-23        375     1166       982       531       285\n",
       "3  2018-12-24        355     1119       977       545       282\n",
       "4  2018-12-25        342     1095       958       532       286\n",
       "5  2018-12-26        353     1145       981       540       310\n",
       "6  2018-12-27        362     1148       930       565       327\n",
       "7  2018-12-28        330     1057       946       543       386"
      ]
     },
     "execution_count": 19,
     "metadata": {},
     "output_type": "execute_result"
    }
   ],
   "source": [
    "Seattle_airbnb"
   ]
  },
  {
   "cell_type": "code",
   "execution_count": null,
   "metadata": {},
   "outputs": [],
   "source": []
  }
 ],
 "metadata": {
  "kernelspec": {
   "display_name": "Python 3",
   "language": "python",
   "name": "python3"
  },
  "language_info": {
   "codemirror_mode": {
    "name": "ipython",
    "version": 3
   },
   "file_extension": ".py",
   "mimetype": "text/x-python",
   "name": "python",
   "nbconvert_exporter": "python",
   "pygments_lexer": "ipython3",
   "version": "3.6.5"
  }
 },
 "nbformat": 4,
 "nbformat_minor": 2
}
