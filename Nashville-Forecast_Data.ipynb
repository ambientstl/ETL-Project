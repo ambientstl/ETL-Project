{
 "cells": [
  {
   "cell_type": "code",
   "execution_count": 8,
   "metadata": {},
   "outputs": [],
   "source": [
    "import requests\n",
    "import json\n",
    "import forecastio\n",
    "from pprint import pprint\n",
    "from geopy.geocoders import Nominatim\n",
    "import pandas as pd\n",
    "import import_ipynb\n",
    "from Nashville_airbnb import Nashville_airbnb\n",
    "import datetime as dt"
   ]
  },
  {
   "cell_type": "code",
   "execution_count": 9,
   "metadata": {},
   "outputs": [],
   "source": [
    "api_key = \"a36c8345cc74c469a50078545e4970de\""
   ]
  },
  {
   "cell_type": "code",
   "execution_count": 10,
   "metadata": {},
   "outputs": [
    {
     "data": {
      "text/plain": [
       "[36.1622296, -86.7743531]"
      ]
     },
     "execution_count": 10,
     "metadata": {},
     "output_type": "execute_result"
    }
   ],
   "source": [
    "geolocator = Nominatim(user_agent=\"ETL_Project\")\n",
    "\n",
    "location = geolocator.geocode(\"Nashville, TN\")\n",
    "\n",
    "NV_coord = []\n",
    "NV_coord.append(location.latitude)\n",
    "NV_coord.append(location.longitude)\n",
    "\n",
    "NV_coord"
   ]
  },
  {
   "cell_type": "code",
   "execution_count": 11,
   "metadata": {},
   "outputs": [
    {
     "name": "stdout",
     "output_type": "stream",
     "text": [
      "Rain today through Thursday, with high temperatures bottoming out at 46°F on Monday.\n",
      "rain\n",
      "54.77\n"
     ]
    }
   ],
   "source": [
    "forecast = forecastio.load_forecast(api_key, NV_coord[0], NV_coord[1])\n",
    "\n",
    "byDay = forecast.daily()\n",
    "print(byDay.summary)\n",
    "print(byDay.icon)\n",
    "print(byDay.data[4].temperatureHigh)"
   ]
  },
  {
   "cell_type": "code",
   "execution_count": 12,
   "metadata": {},
   "outputs": [
    {
     "data": {
      "text/plain": [
       "['2018-12-21',\n",
       " '2018-12-22',\n",
       " '2018-12-23',\n",
       " '2018-12-24',\n",
       " '2018-12-25',\n",
       " '2018-12-26',\n",
       " '2018-12-27',\n",
       " '2018-12-28']"
      ]
     },
     "execution_count": 12,
     "metadata": {},
     "output_type": "execute_result"
    }
   ],
   "source": [
    "temp_high = []\n",
    "temp_low = []\n",
    "precip_perc = []\n",
    "precip_type = []\n",
    "precip_int = []\n",
    "date = []\n",
    "\n",
    "for i in byDay.data:\n",
    "    date.append(i.time.date())\n",
    "    temp_high.append(i.temperatureHigh)\n",
    "    temp_low.append(i.temperatureLow)\n",
    "    precip_perc.append(i.precipProbability)\n",
    "    precip_int.append(i.precipIntensity)\n",
    "    try:\n",
    "        precip_type.append(i.precipType)\n",
    "    except:\n",
    "        precip_type.append(\"none\")\n",
    "\n",
    "date\n",
    "\n",
    "dates = [dt.datetime.strftime(i, '%Y-%m-%d') for i in date]\n",
    "dates"
   ]
  },
  {
   "cell_type": "code",
   "execution_count": 13,
   "metadata": {},
   "outputs": [
    {
     "data": {
      "text/plain": [
       "Date                          object\n",
       "High Temp                    float64\n",
       "Low Temp                     float64\n",
       "Precipitation Probability    float64\n",
       "Precipitation Intensity      float64\n",
       "Precipitation Type            object\n",
       "dtype: object"
      ]
     },
     "execution_count": 13,
     "metadata": {},
     "output_type": "execute_result"
    }
   ],
   "source": [
    "df = pd.DataFrame({\"Date\": dates, \n",
    "                     \"High Temp\": temp_high, \n",
    "                     \"Low Temp\": temp_low, \n",
    "                     \"Precipitation Probability\": precip_perc,\n",
    "                     \"Precipitation Intensity\": precip_int,\n",
    "                     \"Precipitation Type\": precip_type\n",
    "                    })\n",
    "df.dtypes"
   ]
  },
  {
   "cell_type": "code",
   "execution_count": 14,
   "metadata": {},
   "outputs": [
    {
     "data": {
      "text/plain": [
       "Date         object\n",
       "Under $50     int64\n",
       "$50-100       int64\n",
       "$100-150      int64\n",
       "$150-200      int64\n",
       "$200-250      int64\n",
       "dtype: object"
      ]
     },
     "execution_count": 14,
     "metadata": {},
     "output_type": "execute_result"
    }
   ],
   "source": [
    "Nashville_airbnb.dtypes"
   ]
  },
  {
   "cell_type": "code",
   "execution_count": 15,
   "metadata": {},
   "outputs": [
    {
     "data": {
      "text/html": [
       "<div>\n",
       "<style scoped>\n",
       "    .dataframe tbody tr th:only-of-type {\n",
       "        vertical-align: middle;\n",
       "    }\n",
       "\n",
       "    .dataframe tbody tr th {\n",
       "        vertical-align: top;\n",
       "    }\n",
       "\n",
       "    .dataframe thead th {\n",
       "        text-align: right;\n",
       "    }\n",
       "</style>\n",
       "<table border=\"1\" class=\"dataframe\">\n",
       "  <thead>\n",
       "    <tr style=\"text-align: right;\">\n",
       "      <th></th>\n",
       "      <th>Date</th>\n",
       "      <th>High Temp</th>\n",
       "      <th>Low Temp</th>\n",
       "      <th>Precipitation Probability</th>\n",
       "      <th>Precipitation Intensity</th>\n",
       "      <th>Precipitation Type</th>\n",
       "      <th>Under $50</th>\n",
       "      <th>$50-100</th>\n",
       "      <th>$100-150</th>\n",
       "      <th>$150-200</th>\n",
       "      <th>$200-250</th>\n",
       "    </tr>\n",
       "  </thead>\n",
       "  <tbody>\n",
       "    <tr>\n",
       "      <th>0</th>\n",
       "      <td>2018-12-21</td>\n",
       "      <td>42.36</td>\n",
       "      <td>29.07</td>\n",
       "      <td>0.91</td>\n",
       "      <td>0.0049</td>\n",
       "      <td>rain</td>\n",
       "      <td>120</td>\n",
       "      <td>638</td>\n",
       "      <td>597</td>\n",
       "      <td>580</td>\n",
       "      <td>592</td>\n",
       "    </tr>\n",
       "    <tr>\n",
       "      <th>1</th>\n",
       "      <td>2018-12-22</td>\n",
       "      <td>50.55</td>\n",
       "      <td>40.17</td>\n",
       "      <td>0.06</td>\n",
       "      <td>0.0003</td>\n",
       "      <td>rain</td>\n",
       "      <td>116</td>\n",
       "      <td>564</td>\n",
       "      <td>562</td>\n",
       "      <td>557</td>\n",
       "      <td>571</td>\n",
       "    </tr>\n",
       "    <tr>\n",
       "      <th>2</th>\n",
       "      <td>2018-12-23</td>\n",
       "      <td>47.45</td>\n",
       "      <td>30.92</td>\n",
       "      <td>0.59</td>\n",
       "      <td>0.0084</td>\n",
       "      <td>rain</td>\n",
       "      <td>152</td>\n",
       "      <td>912</td>\n",
       "      <td>801</td>\n",
       "      <td>469</td>\n",
       "      <td>469</td>\n",
       "    </tr>\n",
       "    <tr>\n",
       "      <th>3</th>\n",
       "      <td>2018-12-24</td>\n",
       "      <td>45.59</td>\n",
       "      <td>32.70</td>\n",
       "      <td>0.04</td>\n",
       "      <td>0.0001</td>\n",
       "      <td>rain</td>\n",
       "      <td>155</td>\n",
       "      <td>992</td>\n",
       "      <td>719</td>\n",
       "      <td>696</td>\n",
       "      <td>351</td>\n",
       "    </tr>\n",
       "    <tr>\n",
       "      <th>4</th>\n",
       "      <td>2018-12-25</td>\n",
       "      <td>54.77</td>\n",
       "      <td>36.01</td>\n",
       "      <td>0.03</td>\n",
       "      <td>0.0001</td>\n",
       "      <td>rain</td>\n",
       "      <td>147</td>\n",
       "      <td>973</td>\n",
       "      <td>702</td>\n",
       "      <td>692</td>\n",
       "      <td>353</td>\n",
       "    </tr>\n",
       "    <tr>\n",
       "      <th>5</th>\n",
       "      <td>2018-12-26</td>\n",
       "      <td>59.74</td>\n",
       "      <td>50.95</td>\n",
       "      <td>0.00</td>\n",
       "      <td>0.0000</td>\n",
       "      <td>none</td>\n",
       "      <td>147</td>\n",
       "      <td>892</td>\n",
       "      <td>672</td>\n",
       "      <td>722</td>\n",
       "      <td>347</td>\n",
       "    </tr>\n",
       "    <tr>\n",
       "      <th>6</th>\n",
       "      <td>2018-12-27</td>\n",
       "      <td>65.08</td>\n",
       "      <td>53.86</td>\n",
       "      <td>0.91</td>\n",
       "      <td>0.1015</td>\n",
       "      <td>rain</td>\n",
       "      <td>137</td>\n",
       "      <td>698</td>\n",
       "      <td>564</td>\n",
       "      <td>390</td>\n",
       "      <td>256</td>\n",
       "    </tr>\n",
       "    <tr>\n",
       "      <th>7</th>\n",
       "      <td>2018-12-28</td>\n",
       "      <td>63.06</td>\n",
       "      <td>41.54</td>\n",
       "      <td>0.25</td>\n",
       "      <td>0.0015</td>\n",
       "      <td>rain</td>\n",
       "      <td>109</td>\n",
       "      <td>339</td>\n",
       "      <td>279</td>\n",
       "      <td>309</td>\n",
       "      <td>236</td>\n",
       "    </tr>\n",
       "  </tbody>\n",
       "</table>\n",
       "</div>"
      ],
      "text/plain": [
       "         Date  High Temp  Low Temp  Precipitation Probability  \\\n",
       "0  2018-12-21      42.36     29.07                       0.91   \n",
       "1  2018-12-22      50.55     40.17                       0.06   \n",
       "2  2018-12-23      47.45     30.92                       0.59   \n",
       "3  2018-12-24      45.59     32.70                       0.04   \n",
       "4  2018-12-25      54.77     36.01                       0.03   \n",
       "5  2018-12-26      59.74     50.95                       0.00   \n",
       "6  2018-12-27      65.08     53.86                       0.91   \n",
       "7  2018-12-28      63.06     41.54                       0.25   \n",
       "\n",
       "   Precipitation Intensity Precipitation Type  Under $50  $50-100  $100-150  \\\n",
       "0                   0.0049               rain        120      638       597   \n",
       "1                   0.0003               rain        116      564       562   \n",
       "2                   0.0084               rain        152      912       801   \n",
       "3                   0.0001               rain        155      992       719   \n",
       "4                   0.0001               rain        147      973       702   \n",
       "5                   0.0000               none        147      892       672   \n",
       "6                   0.1015               rain        137      698       564   \n",
       "7                   0.0015               rain        109      339       279   \n",
       "\n",
       "   $150-200  $200-250  \n",
       "0       580       592  \n",
       "1       557       571  \n",
       "2       469       469  \n",
       "3       696       351  \n",
       "4       692       353  \n",
       "5       722       347  \n",
       "6       390       256  \n",
       "7       309       236  "
      ]
     },
     "execution_count": 15,
     "metadata": {},
     "output_type": "execute_result"
    }
   ],
   "source": [
    "NV_table = pd.merge(df, Nashville_airbnb, on=\"Date\")\n",
    "NV_table"
   ]
  },
  {
   "cell_type": "code",
   "execution_count": null,
   "metadata": {},
   "outputs": [],
   "source": []
  }
 ],
 "metadata": {
  "kernelspec": {
   "display_name": "Python 3",
   "language": "python",
   "name": "python3"
  },
  "language_info": {
   "codemirror_mode": {
    "name": "ipython",
    "version": 3
   },
   "file_extension": ".py",
   "mimetype": "text/x-python",
   "name": "python",
   "nbconvert_exporter": "python",
   "pygments_lexer": "ipython3",
   "version": "3.6.5"
  }
 },
 "nbformat": 4,
 "nbformat_minor": 2
}
