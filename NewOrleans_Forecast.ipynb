{
 "cells": [
  {
   "cell_type": "code",
   "execution_count": 2,
   "metadata": {},
   "outputs": [
    {
     "name": "stdout",
     "output_type": "stream",
     "text": [
      "importing Jupyter notebook from NewOrleans_airbnb.ipynb\n"
     ]
    },
    {
     "name": "stderr",
     "output_type": "stream",
     "text": [
      "NewOrleans_airbnb.ipynb:1: SettingWithCopyWarning: \n",
      "A value is trying to be set on a copy of a slice from a DataFrame.\n",
      "Try using .loc[row_indexer,col_indexer] = value instead\n",
      "\n",
      "See the caveats in the documentation: http://pandas.pydata.org/pandas-docs/stable/indexing.html#indexing-view-versus-copy\n",
      "  {\n",
      "NewOrleans_airbnb.ipynb:1: SettingWithCopyWarning: \n",
      "A value is trying to be set on a copy of a slice from a DataFrame.\n",
      "Try using .loc[row_indexer,col_indexer] = value instead\n",
      "\n",
      "See the caveats in the documentation: http://pandas.pydata.org/pandas-docs/stable/indexing.html#indexing-view-versus-copy\n",
      "  {\n",
      "NewOrleans_airbnb.ipynb:7: SettingWithCopyWarning: \n",
      "A value is trying to be set on a copy of a slice from a DataFrame.\n",
      "Try using .loc[row_indexer,col_indexer] = value instead\n",
      "\n",
      "See the caveats in the documentation: http://pandas.pydata.org/pandas-docs/stable/indexing.html#indexing-view-versus-copy\n",
      "  \"outputs\": [],\n"
     ]
    }
   ],
   "source": [
    "import requests\n",
    "import json\n",
    "import forecastio\n",
    "from geopy.geocoders import Nominatim\n",
    "import pandas as pd\n",
    "import import_ipynb\n",
    "from NewOrleans_airbnb import NewOrleans_airbnb\n",
    "import datetime as dt\n",
    "from config import api_key"
   ]
  },
  {
   "cell_type": "code",
   "execution_count": 4,
   "metadata": {},
   "outputs": [
    {
     "data": {
      "text/plain": [
       "[29.9499323, -90.0701156]"
      ]
     },
     "execution_count": 4,
     "metadata": {},
     "output_type": "execute_result"
    }
   ],
   "source": [
    "geolocator = Nominatim(user_agent=\"ETL_Project\")\n",
    "\n",
    "location = geolocator.geocode(\"New Orleans, LA\")\n",
    "\n",
    "NO_coord = []\n",
    "NO_coord.append(location.latitude)\n",
    "NO_coord.append(location.longitude)\n",
    "\n",
    "NO_coord"
   ]
  },
  {
   "cell_type": "code",
   "execution_count": 6,
   "metadata": {},
   "outputs": [
    {
     "name": "stdout",
     "output_type": "stream",
     "text": [
      "Rain on Wednesday through next Friday, with high temperatures rising to 71°F on Thursday.\n",
      "rain\n",
      "62.85\n"
     ]
    }
   ],
   "source": [
    "forecast = forecastio.load_forecast(api_key, NO_coord[0], NO_coord[1])\n",
    "\n",
    "byDay = forecast.daily()\n",
    "print(byDay.summary)\n",
    "print(byDay.icon)\n",
    "print(byDay.data[4].temperatureHigh)"
   ]
  },
  {
   "cell_type": "code",
   "execution_count": 7,
   "metadata": {},
   "outputs": [
    {
     "data": {
      "text/plain": [
       "['2018-12-21',\n",
       " '2018-12-22',\n",
       " '2018-12-23',\n",
       " '2018-12-24',\n",
       " '2018-12-25',\n",
       " '2018-12-26',\n",
       " '2018-12-27',\n",
       " '2018-12-28']"
      ]
     },
     "execution_count": 7,
     "metadata": {},
     "output_type": "execute_result"
    }
   ],
   "source": [
    "temp_high = []\n",
    "temp_low = []\n",
    "precip_perc = []\n",
    "precip_type = []\n",
    "precip_int = []\n",
    "date = []\n",
    "\n",
    "for i in byDay.data:\n",
    "    date.append(i.time.date())\n",
    "    temp_high.append(i.temperatureHigh)\n",
    "    temp_low.append(i.temperatureLow)\n",
    "    precip_perc.append(i.precipProbability)\n",
    "    precip_int.append(i.precipIntensity)\n",
    "    try:\n",
    "        precip_type.append(i.precipType)\n",
    "    except:\n",
    "        precip_type.append(\"none\")\n",
    "\n",
    "date\n",
    "\n",
    "dates = [dt.datetime.strftime(i, '%Y-%m-%d') for i in date]\n",
    "dates"
   ]
  },
  {
   "cell_type": "code",
   "execution_count": 8,
   "metadata": {},
   "outputs": [
    {
     "data": {
      "text/plain": [
       "Date                          object\n",
       "High Temp                    float64\n",
       "Low Temp                     float64\n",
       "Precipitation Probability    float64\n",
       "Precipitation Intensity      float64\n",
       "Precipitation Type            object\n",
       "dtype: object"
      ]
     },
     "execution_count": 8,
     "metadata": {},
     "output_type": "execute_result"
    }
   ],
   "source": [
    "df = pd.DataFrame({\"Date\": dates, \n",
    "                     \"High Temp\": temp_high, \n",
    "                     \"Low Temp\": temp_low, \n",
    "                     \"Precipitation Probability\": precip_perc,\n",
    "                     \"Precipitation Intensity\": precip_int,\n",
    "                     \"Precipitation Type\": precip_type\n",
    "                    })\n",
    "df.dtypes"
   ]
  },
  {
   "cell_type": "code",
   "execution_count": 9,
   "metadata": {},
   "outputs": [
    {
     "data": {
      "text/html": [
       "<div>\n",
       "<style scoped>\n",
       "    .dataframe tbody tr th:only-of-type {\n",
       "        vertical-align: middle;\n",
       "    }\n",
       "\n",
       "    .dataframe tbody tr th {\n",
       "        vertical-align: top;\n",
       "    }\n",
       "\n",
       "    .dataframe thead th {\n",
       "        text-align: right;\n",
       "    }\n",
       "</style>\n",
       "<table border=\"1\" class=\"dataframe\">\n",
       "  <thead>\n",
       "    <tr style=\"text-align: right;\">\n",
       "      <th></th>\n",
       "      <th>Date</th>\n",
       "      <th>High Temp</th>\n",
       "      <th>Low Temp</th>\n",
       "      <th>Precipitation Probability</th>\n",
       "      <th>Precipitation Intensity</th>\n",
       "      <th>Precipitation Type</th>\n",
       "      <th>Under $50</th>\n",
       "      <th>$50-100</th>\n",
       "      <th>$100-150</th>\n",
       "      <th>$150-200</th>\n",
       "      <th>$200-250</th>\n",
       "    </tr>\n",
       "  </thead>\n",
       "  <tbody>\n",
       "    <tr>\n",
       "      <th>0</th>\n",
       "      <td>2018-12-21</td>\n",
       "      <td>55.64</td>\n",
       "      <td>42.27</td>\n",
       "      <td>0.31</td>\n",
       "      <td>0.0001</td>\n",
       "      <td>rain</td>\n",
       "      <td>97</td>\n",
       "      <td>802</td>\n",
       "      <td>1016</td>\n",
       "      <td>567</td>\n",
       "      <td>283</td>\n",
       "    </tr>\n",
       "    <tr>\n",
       "      <th>1</th>\n",
       "      <td>2018-12-22</td>\n",
       "      <td>63.62</td>\n",
       "      <td>56.28</td>\n",
       "      <td>0.05</td>\n",
       "      <td>0.0003</td>\n",
       "      <td>rain</td>\n",
       "      <td>70</td>\n",
       "      <td>606</td>\n",
       "      <td>849</td>\n",
       "      <td>467</td>\n",
       "      <td>251</td>\n",
       "    </tr>\n",
       "    <tr>\n",
       "      <th>2</th>\n",
       "      <td>2018-12-23</td>\n",
       "      <td>69.35</td>\n",
       "      <td>49.76</td>\n",
       "      <td>0.12</td>\n",
       "      <td>0.0010</td>\n",
       "      <td>rain</td>\n",
       "      <td>82</td>\n",
       "      <td>845</td>\n",
       "      <td>701</td>\n",
       "      <td>438</td>\n",
       "      <td>207</td>\n",
       "    </tr>\n",
       "    <tr>\n",
       "      <th>3</th>\n",
       "      <td>2018-12-24</td>\n",
       "      <td>60.00</td>\n",
       "      <td>51.52</td>\n",
       "      <td>0.07</td>\n",
       "      <td>0.0001</td>\n",
       "      <td>rain</td>\n",
       "      <td>96</td>\n",
       "      <td>833</td>\n",
       "      <td>752</td>\n",
       "      <td>431</td>\n",
       "      <td>235</td>\n",
       "    </tr>\n",
       "    <tr>\n",
       "      <th>4</th>\n",
       "      <td>2018-12-25</td>\n",
       "      <td>62.85</td>\n",
       "      <td>59.38</td>\n",
       "      <td>0.17</td>\n",
       "      <td>0.0017</td>\n",
       "      <td>rain</td>\n",
       "      <td>97</td>\n",
       "      <td>833</td>\n",
       "      <td>729</td>\n",
       "      <td>441</td>\n",
       "      <td>248</td>\n",
       "    </tr>\n",
       "    <tr>\n",
       "      <th>5</th>\n",
       "      <td>2018-12-26</td>\n",
       "      <td>66.68</td>\n",
       "      <td>64.15</td>\n",
       "      <td>0.89</td>\n",
       "      <td>0.0242</td>\n",
       "      <td>rain</td>\n",
       "      <td>95</td>\n",
       "      <td>796</td>\n",
       "      <td>757</td>\n",
       "      <td>402</td>\n",
       "      <td>204</td>\n",
       "    </tr>\n",
       "    <tr>\n",
       "      <th>6</th>\n",
       "      <td>2018-12-27</td>\n",
       "      <td>71.07</td>\n",
       "      <td>60.19</td>\n",
       "      <td>0.99</td>\n",
       "      <td>0.0878</td>\n",
       "      <td>rain</td>\n",
       "      <td>67</td>\n",
       "      <td>624</td>\n",
       "      <td>622</td>\n",
       "      <td>371</td>\n",
       "      <td>221</td>\n",
       "    </tr>\n",
       "    <tr>\n",
       "      <th>7</th>\n",
       "      <td>2018-12-28</td>\n",
       "      <td>66.78</td>\n",
       "      <td>62.00</td>\n",
       "      <td>0.46</td>\n",
       "      <td>0.0074</td>\n",
       "      <td>rain</td>\n",
       "      <td>32</td>\n",
       "      <td>229</td>\n",
       "      <td>302</td>\n",
       "      <td>369</td>\n",
       "      <td>274</td>\n",
       "    </tr>\n",
       "  </tbody>\n",
       "</table>\n",
       "</div>"
      ],
      "text/plain": [
       "         Date  High Temp  Low Temp  Precipitation Probability  \\\n",
       "0  2018-12-21      55.64     42.27                       0.31   \n",
       "1  2018-12-22      63.62     56.28                       0.05   \n",
       "2  2018-12-23      69.35     49.76                       0.12   \n",
       "3  2018-12-24      60.00     51.52                       0.07   \n",
       "4  2018-12-25      62.85     59.38                       0.17   \n",
       "5  2018-12-26      66.68     64.15                       0.89   \n",
       "6  2018-12-27      71.07     60.19                       0.99   \n",
       "7  2018-12-28      66.78     62.00                       0.46   \n",
       "\n",
       "   Precipitation Intensity Precipitation Type  Under $50  $50-100  $100-150  \\\n",
       "0                   0.0001               rain         97      802      1016   \n",
       "1                   0.0003               rain         70      606       849   \n",
       "2                   0.0010               rain         82      845       701   \n",
       "3                   0.0001               rain         96      833       752   \n",
       "4                   0.0017               rain         97      833       729   \n",
       "5                   0.0242               rain         95      796       757   \n",
       "6                   0.0878               rain         67      624       622   \n",
       "7                   0.0074               rain         32      229       302   \n",
       "\n",
       "   $150-200  $200-250  \n",
       "0       567       283  \n",
       "1       467       251  \n",
       "2       438       207  \n",
       "3       431       235  \n",
       "4       441       248  \n",
       "5       402       204  \n",
       "6       371       221  \n",
       "7       369       274  "
      ]
     },
     "execution_count": 9,
     "metadata": {},
     "output_type": "execute_result"
    }
   ],
   "source": [
    "NO_table = pd.merge(df, NewOrleans_airbnb, on=\"Date\")\n",
    "NO_table[\"City\"] = \"New Orleans\"\n",
    "NO_table"
   ]
  },
  {
   "cell_type": "code",
   "execution_count": null,
   "metadata": {},
   "outputs": [],
   "source": []
  }
 ],
 "metadata": {
  "kernelspec": {
   "display_name": "Python 3",
   "language": "python",
   "name": "python3"
  },
  "language_info": {
   "codemirror_mode": {
    "name": "ipython",
    "version": 3
   },
   "file_extension": ".py",
   "mimetype": "text/x-python",
   "name": "python",
   "nbconvert_exporter": "python",
   "pygments_lexer": "ipython3",
   "version": "3.6.5"
  }
 },
 "nbformat": 4,
 "nbformat_minor": 2
}
