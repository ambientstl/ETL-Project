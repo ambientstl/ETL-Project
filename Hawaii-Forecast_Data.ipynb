{
 "cells": [
  {
   "cell_type": "code",
   "execution_count": 8,
   "metadata": {},
   "outputs": [
    {
     "name": "stdout",
     "output_type": "stream",
     "text": [
      "importing Jupyter notebook from hawaii_airbnb.ipynb\n"
     ]
    },
    {
     "name": "stderr",
     "output_type": "stream",
     "text": [
      "hawaii_airbnb.ipynb:1: SettingWithCopyWarning: \n",
      "A value is trying to be set on a copy of a slice from a DataFrame.\n",
      "Try using .loc[row_indexer,col_indexer] = value instead\n",
      "\n",
      "See the caveats in the documentation: http://pandas.pydata.org/pandas-docs/stable/indexing.html#indexing-view-versus-copy\n",
      "  {\n",
      "hawaii_airbnb.ipynb:1: SettingWithCopyWarning: \n",
      "A value is trying to be set on a copy of a slice from a DataFrame.\n",
      "Try using .loc[row_indexer,col_indexer] = value instead\n",
      "\n",
      "See the caveats in the documentation: http://pandas.pydata.org/pandas-docs/stable/indexing.html#indexing-view-versus-copy\n",
      "  {\n",
      "hawaii_airbnb.ipynb:7: SettingWithCopyWarning: \n",
      "A value is trying to be set on a copy of a slice from a DataFrame.\n",
      "Try using .loc[row_indexer,col_indexer] = value instead\n",
      "\n",
      "See the caveats in the documentation: http://pandas.pydata.org/pandas-docs/stable/indexing.html#indexing-view-versus-copy\n",
      "  \"outputs\": [],\n"
     ]
    }
   ],
   "source": [
    "import requests\n",
    "import json\n",
    "import forecastio\n",
    "from pprint import pprint\n",
    "from geopy.geocoders import Nominatim\n",
    "import pandas as pd\n",
    "import import_ipynb\n",
    "from hawaii_airbnb import hawaii_airbnb\n",
    "import datetime as dt"
   ]
  },
  {
   "cell_type": "code",
   "execution_count": 9,
   "metadata": {},
   "outputs": [],
   "source": [
    "api_key = \"a36c8345cc74c469a50078545e4970de\""
   ]
  },
  {
   "cell_type": "code",
   "execution_count": 10,
   "metadata": {},
   "outputs": [
    {
     "data": {
      "text/plain": [
       "[21.3250785, -157.846644178573]"
      ]
     },
     "execution_count": 10,
     "metadata": {},
     "output_type": "execute_result"
    }
   ],
   "source": [
    "geolocator = Nominatim(user_agent=\"ETL_Project\")\n",
    "\n",
    "location = geolocator.geocode(\"Honolulu, HI\")\n",
    "\n",
    "HI_coord = []\n",
    "HI_coord.append(location.latitude)\n",
    "HI_coord.append(location.longitude)\n",
    "\n",
    "HI_coord"
   ]
  },
  {
   "cell_type": "code",
   "execution_count": 11,
   "metadata": {},
   "outputs": [
    {
     "name": "stdout",
     "output_type": "stream",
     "text": [
      "Rain today and next Friday, with high temperatures rising to 82°F on Thursday.\n",
      "rain\n",
      "80.18\n"
     ]
    }
   ],
   "source": [
    "forecast = forecastio.load_forecast(api_key, HI_coord[0], HI_coord[1])\n",
    "\n",
    "byDay = forecast.daily()\n",
    "print(byDay.summary)\n",
    "print(byDay.icon)\n",
    "print(byDay.data[4].temperatureHigh)"
   ]
  },
  {
   "cell_type": "code",
   "execution_count": 12,
   "metadata": {},
   "outputs": [
    {
     "data": {
      "text/plain": [
       "['2018-12-21',\n",
       " '2018-12-22',\n",
       " '2018-12-23',\n",
       " '2018-12-24',\n",
       " '2018-12-25',\n",
       " '2018-12-26',\n",
       " '2018-12-27',\n",
       " '2018-12-28']"
      ]
     },
     "execution_count": 12,
     "metadata": {},
     "output_type": "execute_result"
    }
   ],
   "source": [
    "temp_high = []\n",
    "temp_low = []\n",
    "precip_perc = []\n",
    "precip_type = []\n",
    "precip_int = []\n",
    "date = []\n",
    "\n",
    "for i in byDay.data:\n",
    "    date.append(i.time.date())\n",
    "    temp_high.append(i.temperatureHigh)\n",
    "    temp_low.append(i.temperatureLow)\n",
    "    precip_perc.append(i.precipProbability)\n",
    "    precip_int.append(i.precipIntensity)\n",
    "    try:\n",
    "        precip_type.append(i.precipType)\n",
    "    except:\n",
    "        precip_type.append(\"none\")\n",
    "\n",
    "date\n",
    "\n",
    "dates = [dt.datetime.strftime(i, '%Y-%m-%d') for i in date]\n",
    "dates"
   ]
  },
  {
   "cell_type": "code",
   "execution_count": 15,
   "metadata": {},
   "outputs": [
    {
     "data": {
      "text/plain": [
       "Date                          object\n",
       "High Temp                    float64\n",
       "Low Temp                     float64\n",
       "Precipitation Probability    float64\n",
       "Precipitation Intensity      float64\n",
       "Precipitation Type            object\n",
       "dtype: object"
      ]
     },
     "execution_count": 15,
     "metadata": {},
     "output_type": "execute_result"
    }
   ],
   "source": [
    "df = pd.DataFrame({\"Date\": dates, \n",
    "                     \"High Temp\": temp_high, \n",
    "                     \"Low Temp\": temp_low, \n",
    "                     \"Precipitation Probability\": precip_perc,\n",
    "                     \"Precipitation Intensity\": precip_int,\n",
    "                     \"Precipitation Type\": precip_type\n",
    "                    })\n",
    "df.dtypes"
   ]
  },
  {
   "cell_type": "code",
   "execution_count": 16,
   "metadata": {},
   "outputs": [
    {
     "data": {
      "text/plain": [
       "Date         object\n",
       "Under $50     int64\n",
       "$50-100       int64\n",
       "$100-150      int64\n",
       "$150-200      int64\n",
       "$200-250      int64\n",
       "dtype: object"
      ]
     },
     "execution_count": 16,
     "metadata": {},
     "output_type": "execute_result"
    }
   ],
   "source": [
    "hawaii_airbnb.dtypes"
   ]
  },
  {
   "cell_type": "code",
   "execution_count": 17,
   "metadata": {},
   "outputs": [
    {
     "data": {
      "text/html": [
       "<div>\n",
       "<style scoped>\n",
       "    .dataframe tbody tr th:only-of-type {\n",
       "        vertical-align: middle;\n",
       "    }\n",
       "\n",
       "    .dataframe tbody tr th {\n",
       "        vertical-align: top;\n",
       "    }\n",
       "\n",
       "    .dataframe thead th {\n",
       "        text-align: right;\n",
       "    }\n",
       "</style>\n",
       "<table border=\"1\" class=\"dataframe\">\n",
       "  <thead>\n",
       "    <tr style=\"text-align: right;\">\n",
       "      <th></th>\n",
       "      <th>Date</th>\n",
       "      <th>High Temp</th>\n",
       "      <th>Low Temp</th>\n",
       "      <th>Precipitation Probability</th>\n",
       "      <th>Precipitation Intensity</th>\n",
       "      <th>Precipitation Type</th>\n",
       "      <th>Under $50</th>\n",
       "      <th>$50-100</th>\n",
       "      <th>$100-150</th>\n",
       "      <th>$150-200</th>\n",
       "      <th>$200-250</th>\n",
       "    </tr>\n",
       "  </thead>\n",
       "  <tbody>\n",
       "    <tr>\n",
       "      <th>0</th>\n",
       "      <td>2018-12-21</td>\n",
       "      <td>77.55</td>\n",
       "      <td>69.09</td>\n",
       "      <td>0.16</td>\n",
       "      <td>0.0043</td>\n",
       "      <td>rain</td>\n",
       "      <td>251</td>\n",
       "      <td>1102</td>\n",
       "      <td>1074</td>\n",
       "      <td>858</td>\n",
       "      <td>580</td>\n",
       "    </tr>\n",
       "    <tr>\n",
       "      <th>1</th>\n",
       "      <td>2018-12-22</td>\n",
       "      <td>78.38</td>\n",
       "      <td>69.40</td>\n",
       "      <td>0.18</td>\n",
       "      <td>0.0010</td>\n",
       "      <td>rain</td>\n",
       "      <td>198</td>\n",
       "      <td>984</td>\n",
       "      <td>968</td>\n",
       "      <td>710</td>\n",
       "      <td>505</td>\n",
       "    </tr>\n",
       "    <tr>\n",
       "      <th>2</th>\n",
       "      <td>2018-12-23</td>\n",
       "      <td>78.19</td>\n",
       "      <td>68.62</td>\n",
       "      <td>0.26</td>\n",
       "      <td>0.0013</td>\n",
       "      <td>rain</td>\n",
       "      <td>210</td>\n",
       "      <td>931</td>\n",
       "      <td>851</td>\n",
       "      <td>636</td>\n",
       "      <td>488</td>\n",
       "    </tr>\n",
       "    <tr>\n",
       "      <th>3</th>\n",
       "      <td>2018-12-24</td>\n",
       "      <td>78.70</td>\n",
       "      <td>69.01</td>\n",
       "      <td>0.20</td>\n",
       "      <td>0.0007</td>\n",
       "      <td>rain</td>\n",
       "      <td>190</td>\n",
       "      <td>782</td>\n",
       "      <td>633</td>\n",
       "      <td>476</td>\n",
       "      <td>336</td>\n",
       "    </tr>\n",
       "    <tr>\n",
       "      <th>4</th>\n",
       "      <td>2018-12-25</td>\n",
       "      <td>80.18</td>\n",
       "      <td>69.00</td>\n",
       "      <td>0.37</td>\n",
       "      <td>0.0026</td>\n",
       "      <td>rain</td>\n",
       "      <td>162</td>\n",
       "      <td>663</td>\n",
       "      <td>508</td>\n",
       "      <td>362</td>\n",
       "      <td>256</td>\n",
       "    </tr>\n",
       "    <tr>\n",
       "      <th>5</th>\n",
       "      <td>2018-12-26</td>\n",
       "      <td>81.02</td>\n",
       "      <td>70.23</td>\n",
       "      <td>0.13</td>\n",
       "      <td>0.0003</td>\n",
       "      <td>rain</td>\n",
       "      <td>175</td>\n",
       "      <td>615</td>\n",
       "      <td>425</td>\n",
       "      <td>307</td>\n",
       "      <td>205</td>\n",
       "    </tr>\n",
       "    <tr>\n",
       "      <th>6</th>\n",
       "      <td>2018-12-27</td>\n",
       "      <td>82.23</td>\n",
       "      <td>69.80</td>\n",
       "      <td>0.14</td>\n",
       "      <td>0.0001</td>\n",
       "      <td>rain</td>\n",
       "      <td>168</td>\n",
       "      <td>519</td>\n",
       "      <td>352</td>\n",
       "      <td>260</td>\n",
       "      <td>157</td>\n",
       "    </tr>\n",
       "    <tr>\n",
       "      <th>7</th>\n",
       "      <td>2018-12-28</td>\n",
       "      <td>80.52</td>\n",
       "      <td>65.64</td>\n",
       "      <td>0.95</td>\n",
       "      <td>0.0258</td>\n",
       "      <td>rain</td>\n",
       "      <td>153</td>\n",
       "      <td>480</td>\n",
       "      <td>315</td>\n",
       "      <td>227</td>\n",
       "      <td>110</td>\n",
       "    </tr>\n",
       "  </tbody>\n",
       "</table>\n",
       "</div>"
      ],
      "text/plain": [
       "         Date  High Temp  Low Temp  Precipitation Probability  \\\n",
       "0  2018-12-21      77.55     69.09                       0.16   \n",
       "1  2018-12-22      78.38     69.40                       0.18   \n",
       "2  2018-12-23      78.19     68.62                       0.26   \n",
       "3  2018-12-24      78.70     69.01                       0.20   \n",
       "4  2018-12-25      80.18     69.00                       0.37   \n",
       "5  2018-12-26      81.02     70.23                       0.13   \n",
       "6  2018-12-27      82.23     69.80                       0.14   \n",
       "7  2018-12-28      80.52     65.64                       0.95   \n",
       "\n",
       "   Precipitation Intensity Precipitation Type  Under $50  $50-100  $100-150  \\\n",
       "0                   0.0043               rain        251     1102      1074   \n",
       "1                   0.0010               rain        198      984       968   \n",
       "2                   0.0013               rain        210      931       851   \n",
       "3                   0.0007               rain        190      782       633   \n",
       "4                   0.0026               rain        162      663       508   \n",
       "5                   0.0003               rain        175      615       425   \n",
       "6                   0.0001               rain        168      519       352   \n",
       "7                   0.0258               rain        153      480       315   \n",
       "\n",
       "   $150-200  $200-250  \n",
       "0       858       580  \n",
       "1       710       505  \n",
       "2       636       488  \n",
       "3       476       336  \n",
       "4       362       256  \n",
       "5       307       205  \n",
       "6       260       157  \n",
       "7       227       110  "
      ]
     },
     "execution_count": 17,
     "metadata": {},
     "output_type": "execute_result"
    }
   ],
   "source": [
    "HI_table = pd.merge(df, hawaii_airbnb, on=\"Date\")\n",
    "HI_table"
   ]
  },
  {
   "cell_type": "code",
   "execution_count": null,
   "metadata": {},
   "outputs": [],
   "source": []
  }
 ],
 "metadata": {
  "kernelspec": {
   "display_name": "Python 3",
   "language": "python",
   "name": "python3"
  },
  "language_info": {
   "codemirror_mode": {
    "name": "ipython",
    "version": 3
   },
   "file_extension": ".py",
   "mimetype": "text/x-python",
   "name": "python",
   "nbconvert_exporter": "python",
   "pygments_lexer": "ipython3",
   "version": "3.6.5"
  }
 },
 "nbformat": 4,
 "nbformat_minor": 2
}
