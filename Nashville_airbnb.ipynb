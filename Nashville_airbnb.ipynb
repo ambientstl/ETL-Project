{
 "cells": [
  {
   "cell_type": "code",
   "execution_count": 1,
   "metadata": {},
   "outputs": [],
   "source": [
    "import csv\n",
    "import pandas as pd\n",
    "import datetime as dt"
   ]
  },
  {
   "cell_type": "code",
   "execution_count": 2,
   "metadata": {},
   "outputs": [],
   "source": [
    "path = \"Resources/Nashville_calendar.csv\""
   ]
  },
  {
   "cell_type": "code",
   "execution_count": 3,
   "metadata": {},
   "outputs": [],
   "source": [
    "df1 = pd.read_csv(path)"
   ]
  },
  {
   "cell_type": "code",
   "execution_count": 4,
   "metadata": {},
   "outputs": [
    {
     "data": {
      "text/html": [
       "<div>\n",
       "<style scoped>\n",
       "    .dataframe tbody tr th:only-of-type {\n",
       "        vertical-align: middle;\n",
       "    }\n",
       "\n",
       "    .dataframe tbody tr th {\n",
       "        vertical-align: top;\n",
       "    }\n",
       "\n",
       "    .dataframe thead th {\n",
       "        text-align: right;\n",
       "    }\n",
       "</style>\n",
       "<table border=\"1\" class=\"dataframe\">\n",
       "  <thead>\n",
       "    <tr style=\"text-align: right;\">\n",
       "      <th></th>\n",
       "      <th>listing_id</th>\n",
       "      <th>date</th>\n",
       "      <th>available</th>\n",
       "      <th>price</th>\n",
       "    </tr>\n",
       "  </thead>\n",
       "  <tbody>\n",
       "    <tr>\n",
       "      <th>0</th>\n",
       "      <td>6422</td>\n",
       "      <td>2019-07-23</td>\n",
       "      <td>f</td>\n",
       "      <td>NaN</td>\n",
       "    </tr>\n",
       "    <tr>\n",
       "      <th>1</th>\n",
       "      <td>637425</td>\n",
       "      <td>2019-11-14</td>\n",
       "      <td>t</td>\n",
       "      <td>$85.00</td>\n",
       "    </tr>\n",
       "    <tr>\n",
       "      <th>2</th>\n",
       "      <td>637425</td>\n",
       "      <td>2019-11-13</td>\n",
       "      <td>t</td>\n",
       "      <td>$85.00</td>\n",
       "    </tr>\n",
       "    <tr>\n",
       "      <th>3</th>\n",
       "      <td>637425</td>\n",
       "      <td>2019-11-12</td>\n",
       "      <td>t</td>\n",
       "      <td>$85.00</td>\n",
       "    </tr>\n",
       "    <tr>\n",
       "      <th>4</th>\n",
       "      <td>637425</td>\n",
       "      <td>2019-11-11</td>\n",
       "      <td>t</td>\n",
       "      <td>$85.00</td>\n",
       "    </tr>\n",
       "  </tbody>\n",
       "</table>\n",
       "</div>"
      ],
      "text/plain": [
       "   listing_id        date available   price\n",
       "0        6422  2019-07-23         f     NaN\n",
       "1      637425  2019-11-14         t  $85.00\n",
       "2      637425  2019-11-13         t  $85.00\n",
       "3      637425  2019-11-12         t  $85.00\n",
       "4      637425  2019-11-11         t  $85.00"
      ]
     },
     "execution_count": 4,
     "metadata": {},
     "output_type": "execute_result"
    }
   ],
   "source": [
    "df1.head()"
   ]
  },
  {
   "cell_type": "code",
   "execution_count": 5,
   "metadata": {},
   "outputs": [],
   "source": [
    "df1 = df1.sort_values(by=\"date\",ascending= True)"
   ]
  },
  {
   "cell_type": "code",
   "execution_count": 6,
   "metadata": {
    "scrolled": true
   },
   "outputs": [
    {
     "data": {
      "text/html": [
       "<div>\n",
       "<style scoped>\n",
       "    .dataframe tbody tr th:only-of-type {\n",
       "        vertical-align: middle;\n",
       "    }\n",
       "\n",
       "    .dataframe tbody tr th {\n",
       "        vertical-align: top;\n",
       "    }\n",
       "\n",
       "    .dataframe thead th {\n",
       "        text-align: right;\n",
       "    }\n",
       "</style>\n",
       "<table border=\"1\" class=\"dataframe\">\n",
       "  <thead>\n",
       "    <tr style=\"text-align: right;\">\n",
       "      <th></th>\n",
       "      <th>listing_id</th>\n",
       "      <th>date</th>\n",
       "      <th>available</th>\n",
       "      <th>price</th>\n",
       "    </tr>\n",
       "  </thead>\n",
       "  <tbody>\n",
       "    <tr>\n",
       "      <th>2161164</th>\n",
       "      <td>27423179</td>\n",
       "      <td>2018-11-15</td>\n",
       "      <td>t</td>\n",
       "      <td>$56.00</td>\n",
       "    </tr>\n",
       "    <tr>\n",
       "      <th>1194280</th>\n",
       "      <td>20972023</td>\n",
       "      <td>2018-11-15</td>\n",
       "      <td>f</td>\n",
       "      <td>NaN</td>\n",
       "    </tr>\n",
       "    <tr>\n",
       "      <th>361043</th>\n",
       "      <td>12016963</td>\n",
       "      <td>2018-11-15</td>\n",
       "      <td>t</td>\n",
       "      <td>$199.00</td>\n",
       "    </tr>\n",
       "    <tr>\n",
       "      <th>1194106</th>\n",
       "      <td>21177218</td>\n",
       "      <td>2018-11-15</td>\n",
       "      <td>f</td>\n",
       "      <td>NaN</td>\n",
       "    </tr>\n",
       "    <tr>\n",
       "      <th>361179</th>\n",
       "      <td>10653657</td>\n",
       "      <td>2018-11-15</td>\n",
       "      <td>f</td>\n",
       "      <td>NaN</td>\n",
       "    </tr>\n",
       "  </tbody>\n",
       "</table>\n",
       "</div>"
      ],
      "text/plain": [
       "         listing_id        date available    price\n",
       "2161164    27423179  2018-11-15         t   $56.00\n",
       "1194280    20972023  2018-11-15         f      NaN\n",
       "361043     12016963  2018-11-15         t  $199.00\n",
       "1194106    21177218  2018-11-15         f      NaN\n",
       "361179     10653657  2018-11-15         f      NaN"
      ]
     },
     "execution_count": 6,
     "metadata": {},
     "output_type": "execute_result"
    }
   ],
   "source": [
    "df1.head()"
   ]
  },
  {
   "cell_type": "code",
   "execution_count": 7,
   "metadata": {},
   "outputs": [
    {
     "data": {
      "text/plain": [
       "listing_id     int64\n",
       "date          object\n",
       "available     object\n",
       "price         object\n",
       "dtype: object"
      ]
     },
     "execution_count": 7,
     "metadata": {},
     "output_type": "execute_result"
    }
   ],
   "source": [
    "df1.dtypes"
   ]
  },
  {
   "cell_type": "code",
   "execution_count": 8,
   "metadata": {},
   "outputs": [],
   "source": [
    "df2 = df1\n",
    "timefmt = \"%Y-%m-%d\" \n",
    "df2['date'] = pd.to_datetime(df2['date'], format = timefmt, errors='coerce')"
   ]
  },
  {
   "cell_type": "code",
   "execution_count": 9,
   "metadata": {},
   "outputs": [
    {
     "data": {
      "text/html": [
       "<div>\n",
       "<style scoped>\n",
       "    .dataframe tbody tr th:only-of-type {\n",
       "        vertical-align: middle;\n",
       "    }\n",
       "\n",
       "    .dataframe tbody tr th {\n",
       "        vertical-align: top;\n",
       "    }\n",
       "\n",
       "    .dataframe thead th {\n",
       "        text-align: right;\n",
       "    }\n",
       "</style>\n",
       "<table border=\"1\" class=\"dataframe\">\n",
       "  <thead>\n",
       "    <tr style=\"text-align: right;\">\n",
       "      <th></th>\n",
       "      <th>listing_id</th>\n",
       "      <th>date</th>\n",
       "      <th>available</th>\n",
       "      <th>price</th>\n",
       "    </tr>\n",
       "  </thead>\n",
       "  <tbody>\n",
       "    <tr>\n",
       "      <th>2161164</th>\n",
       "      <td>27423179</td>\n",
       "      <td>2018-11-15</td>\n",
       "      <td>t</td>\n",
       "      <td>$56.00</td>\n",
       "    </tr>\n",
       "    <tr>\n",
       "      <th>1194280</th>\n",
       "      <td>20972023</td>\n",
       "      <td>2018-11-15</td>\n",
       "      <td>f</td>\n",
       "      <td>NaN</td>\n",
       "    </tr>\n",
       "    <tr>\n",
       "      <th>361043</th>\n",
       "      <td>12016963</td>\n",
       "      <td>2018-11-15</td>\n",
       "      <td>t</td>\n",
       "      <td>$199.00</td>\n",
       "    </tr>\n",
       "    <tr>\n",
       "      <th>1194106</th>\n",
       "      <td>21177218</td>\n",
       "      <td>2018-11-15</td>\n",
       "      <td>f</td>\n",
       "      <td>NaN</td>\n",
       "    </tr>\n",
       "    <tr>\n",
       "      <th>361179</th>\n",
       "      <td>10653657</td>\n",
       "      <td>2018-11-15</td>\n",
       "      <td>f</td>\n",
       "      <td>NaN</td>\n",
       "    </tr>\n",
       "  </tbody>\n",
       "</table>\n",
       "</div>"
      ],
      "text/plain": [
       "         listing_id       date available    price\n",
       "2161164    27423179 2018-11-15         t   $56.00\n",
       "1194280    20972023 2018-11-15         f      NaN\n",
       "361043     12016963 2018-11-15         t  $199.00\n",
       "1194106    21177218 2018-11-15         f      NaN\n",
       "361179     10653657 2018-11-15         f      NaN"
      ]
     },
     "execution_count": 9,
     "metadata": {},
     "output_type": "execute_result"
    }
   ],
   "source": [
    "df2.head()"
   ]
  },
  {
   "cell_type": "code",
   "execution_count": 10,
   "metadata": {},
   "outputs": [
    {
     "data": {
      "text/plain": [
       "'2018-12-30'"
      ]
     },
     "execution_count": 10,
     "metadata": {},
     "output_type": "execute_result"
    }
   ],
   "source": [
    "today_dt = dt.date.today()\n",
    "today = dt.datetime.strftime(today_dt, '%Y-%m-%d')\n",
    "\n",
    "#extract year, month, and day as integers\n",
    "todayYear = int(dt.datetime.strftime(today_dt, '%Y'))\n",
    "todayMonth = int(dt.datetime.strftime(today_dt, '%m'))\n",
    "todayDay = int(dt.datetime.strftime(today_dt, '%d'))\n",
    "\n",
    "\n",
    "week_later_dt = dt.date(todayYear, todayMonth, todayDay) + dt.timedelta(days=8)\n",
    "week_later = dt.datetime.strftime(week_later_dt, '%Y-%m-%d')\n",
    "week_later"
   ]
  },
  {
   "cell_type": "code",
   "execution_count": 11,
   "metadata": {},
   "outputs": [
    {
     "data": {
      "text/html": [
       "<div>\n",
       "<style scoped>\n",
       "    .dataframe tbody tr th:only-of-type {\n",
       "        vertical-align: middle;\n",
       "    }\n",
       "\n",
       "    .dataframe tbody tr th {\n",
       "        vertical-align: top;\n",
       "    }\n",
       "\n",
       "    .dataframe thead th {\n",
       "        text-align: right;\n",
       "    }\n",
       "</style>\n",
       "<table border=\"1\" class=\"dataframe\">\n",
       "  <thead>\n",
       "    <tr style=\"text-align: right;\">\n",
       "      <th></th>\n",
       "      <th>listing_id</th>\n",
       "      <th>date</th>\n",
       "      <th>available</th>\n",
       "      <th>price</th>\n",
       "    </tr>\n",
       "  </thead>\n",
       "  <tbody>\n",
       "    <tr>\n",
       "      <th>1680137</th>\n",
       "      <td>24749438</td>\n",
       "      <td>2018-12-22</td>\n",
       "      <td>t</td>\n",
       "      <td>$79.00</td>\n",
       "    </tr>\n",
       "    <tr>\n",
       "      <th>1625774</th>\n",
       "      <td>23823805</td>\n",
       "      <td>2018-12-22</td>\n",
       "      <td>t</td>\n",
       "      <td>$324.00</td>\n",
       "    </tr>\n",
       "    <tr>\n",
       "      <th>647765</th>\n",
       "      <td>15411385</td>\n",
       "      <td>2018-12-22</td>\n",
       "      <td>t</td>\n",
       "      <td>$130.00</td>\n",
       "    </tr>\n",
       "    <tr>\n",
       "      <th>1188953</th>\n",
       "      <td>21152967</td>\n",
       "      <td>2018-12-22</td>\n",
       "      <td>t</td>\n",
       "      <td>$809.00</td>\n",
       "    </tr>\n",
       "    <tr>\n",
       "      <th>850907</th>\n",
       "      <td>18548337</td>\n",
       "      <td>2018-12-22</td>\n",
       "      <td>t</td>\n",
       "      <td>$185.00</td>\n",
       "    </tr>\n",
       "  </tbody>\n",
       "</table>\n",
       "</div>"
      ],
      "text/plain": [
       "         listing_id       date available    price\n",
       "1680137    24749438 2018-12-22         t   $79.00\n",
       "1625774    23823805 2018-12-22         t  $324.00\n",
       "647765     15411385 2018-12-22         t  $130.00\n",
       "1188953    21152967 2018-12-22         t  $809.00\n",
       "850907     18548337 2018-12-22         t  $185.00"
      ]
     },
     "execution_count": 11,
     "metadata": {},
     "output_type": "execute_result"
    }
   ],
   "source": [
    "df2 = df2.loc[(df2['date']>=today) & (df2['date']<week_later) & (df2['available']=='t'),:]\n",
    "df2.head()"
   ]
  },
  {
   "cell_type": "code",
   "execution_count": 12,
   "metadata": {},
   "outputs": [
    {
     "data": {
      "text/plain": [
       "listing_id             int64\n",
       "date          datetime64[ns]\n",
       "available             object\n",
       "price                 object\n",
       "dtype: object"
      ]
     },
     "execution_count": 12,
     "metadata": {},
     "output_type": "execute_result"
    }
   ],
   "source": [
    "df2['price'].value_counts().head()\n",
    "df2.dtypes"
   ]
  },
  {
   "cell_type": "code",
   "execution_count": 13,
   "metadata": {},
   "outputs": [
    {
     "name": "stderr",
     "output_type": "stream",
     "text": [
      "C:\\Users\\Martin\\Anaconda3\\lib\\site-packages\\ipykernel_launcher.py:1: SettingWithCopyWarning: \n",
      "A value is trying to be set on a copy of a slice from a DataFrame.\n",
      "Try using .loc[row_indexer,col_indexer] = value instead\n",
      "\n",
      "See the caveats in the documentation: http://pandas.pydata.org/pandas-docs/stable/indexing.html#indexing-view-versus-copy\n",
      "  \"\"\"Entry point for launching an IPython kernel.\n"
     ]
    }
   ],
   "source": [
    "df2[\"new_price\"] = df2[\"price\"].str.strip('$')"
   ]
  },
  {
   "cell_type": "code",
   "execution_count": 14,
   "metadata": {},
   "outputs": [
    {
     "name": "stderr",
     "output_type": "stream",
     "text": [
      "C:\\Users\\Martin\\Anaconda3\\lib\\site-packages\\ipykernel_launcher.py:1: SettingWithCopyWarning: \n",
      "A value is trying to be set on a copy of a slice from a DataFrame.\n",
      "Try using .loc[row_indexer,col_indexer] = value instead\n",
      "\n",
      "See the caveats in the documentation: http://pandas.pydata.org/pandas-docs/stable/indexing.html#indexing-view-versus-copy\n",
      "  \"\"\"Entry point for launching an IPython kernel.\n"
     ]
    }
   ],
   "source": [
    "df2[\"new_price\"] = pd.to_numeric(df2[\"new_price\"],errors='coerce')"
   ]
  },
  {
   "cell_type": "code",
   "execution_count": 15,
   "metadata": {},
   "outputs": [
    {
     "data": {
      "text/plain": [
       "listing_id             int64\n",
       "date          datetime64[ns]\n",
       "available             object\n",
       "price                 object\n",
       "new_price            float64\n",
       "dtype: object"
      ]
     },
     "execution_count": 15,
     "metadata": {},
     "output_type": "execute_result"
    }
   ],
   "source": [
    "df2.dtypes"
   ]
  },
  {
   "cell_type": "code",
   "execution_count": 16,
   "metadata": {},
   "outputs": [
    {
     "name": "stderr",
     "output_type": "stream",
     "text": [
      "C:\\Users\\Martin\\Anaconda3\\lib\\site-packages\\ipykernel_launcher.py:7: SettingWithCopyWarning: \n",
      "A value is trying to be set on a copy of a slice from a DataFrame.\n",
      "Try using .loc[row_indexer,col_indexer] = value instead\n",
      "\n",
      "See the caveats in the documentation: http://pandas.pydata.org/pandas-docs/stable/indexing.html#indexing-view-versus-copy\n",
      "  import sys\n"
     ]
    }
   ],
   "source": [
    "\n",
    "bins = [0, 50, 100, 150, 200, 250]\n",
    "\n",
    "# Create the names for the four bins\n",
    "group_names = [\"Under $50\", \"$50-100\", \"$100-150\", \"$150-200\", \"$200-250\"]\n",
    "\n",
    "df2[\"price\"] = pd.cut(df2[\"new_price\"], bins, labels=group_names)"
   ]
  },
  {
   "cell_type": "code",
   "execution_count": 17,
   "metadata": {},
   "outputs": [],
   "source": [
    "# today_dt\n",
    "under_50 = []\n",
    "fifty_100 = []\n",
    "hundred_150 = []\n",
    "onefifty_200 = []\n",
    "twohundred_250 = []\n",
    "\n",
    "numdays = 8\n",
    "date_list = [today_dt + dt.timedelta(days=x) for x in range(0, numdays)]\n",
    "\n",
    "date_list = [dt.datetime.strftime(i, '%Y-%m-%d') for i in date_list]\n",
    "date_list\n",
    "\n",
    "for i in date_list:\n",
    "    prices = df2.loc[df2[\"date\"] == i, \"price\"].value_counts()\n",
    "    under_50.append(prices[0])\n",
    "    fifty_100.append(prices[1])\n",
    "    hundred_150.append(prices[2])\n",
    "    onefifty_200.append(prices[3])\n",
    "    twohundred_250.append(prices[4])"
   ]
  },
  {
   "cell_type": "code",
   "execution_count": 18,
   "metadata": {},
   "outputs": [],
   "source": [
    "df3 = pd.DataFrame({\"Date\": date_list, \n",
    "                     \"Under $50\": under_50, \n",
    "                     \"$50-100\": fifty_100, \n",
    "                     \"$100-150\": hundred_150,\n",
    "                     \"$150-200\": onefifty_200,\n",
    "                     \"$200-250\": twohundred_250\n",
    "                    })\n",
    "df3\n",
    "Nashville_airbnb = df3\n",
    "# df3.set_index(\"Date\")"
   ]
  },
  {
   "cell_type": "code",
   "execution_count": 19,
   "metadata": {},
   "outputs": [
    {
     "data": {
      "text/html": [
       "<div>\n",
       "<style scoped>\n",
       "    .dataframe tbody tr th:only-of-type {\n",
       "        vertical-align: middle;\n",
       "    }\n",
       "\n",
       "    .dataframe tbody tr th {\n",
       "        vertical-align: top;\n",
       "    }\n",
       "\n",
       "    .dataframe thead th {\n",
       "        text-align: right;\n",
       "    }\n",
       "</style>\n",
       "<table border=\"1\" class=\"dataframe\">\n",
       "  <thead>\n",
       "    <tr style=\"text-align: right;\">\n",
       "      <th></th>\n",
       "      <th>Date</th>\n",
       "      <th>Under $50</th>\n",
       "      <th>$50-100</th>\n",
       "      <th>$100-150</th>\n",
       "      <th>$150-200</th>\n",
       "      <th>$200-250</th>\n",
       "    </tr>\n",
       "  </thead>\n",
       "  <tbody>\n",
       "    <tr>\n",
       "      <th>0</th>\n",
       "      <td>2018-12-22</td>\n",
       "      <td>116</td>\n",
       "      <td>564</td>\n",
       "      <td>562</td>\n",
       "      <td>557</td>\n",
       "      <td>571</td>\n",
       "    </tr>\n",
       "    <tr>\n",
       "      <th>1</th>\n",
       "      <td>2018-12-23</td>\n",
       "      <td>152</td>\n",
       "      <td>912</td>\n",
       "      <td>801</td>\n",
       "      <td>469</td>\n",
       "      <td>469</td>\n",
       "    </tr>\n",
       "    <tr>\n",
       "      <th>2</th>\n",
       "      <td>2018-12-24</td>\n",
       "      <td>155</td>\n",
       "      <td>992</td>\n",
       "      <td>719</td>\n",
       "      <td>696</td>\n",
       "      <td>351</td>\n",
       "    </tr>\n",
       "    <tr>\n",
       "      <th>3</th>\n",
       "      <td>2018-12-25</td>\n",
       "      <td>147</td>\n",
       "      <td>973</td>\n",
       "      <td>702</td>\n",
       "      <td>692</td>\n",
       "      <td>353</td>\n",
       "    </tr>\n",
       "    <tr>\n",
       "      <th>4</th>\n",
       "      <td>2018-12-26</td>\n",
       "      <td>147</td>\n",
       "      <td>892</td>\n",
       "      <td>672</td>\n",
       "      <td>722</td>\n",
       "      <td>347</td>\n",
       "    </tr>\n",
       "    <tr>\n",
       "      <th>5</th>\n",
       "      <td>2018-12-27</td>\n",
       "      <td>137</td>\n",
       "      <td>698</td>\n",
       "      <td>564</td>\n",
       "      <td>390</td>\n",
       "      <td>256</td>\n",
       "    </tr>\n",
       "    <tr>\n",
       "      <th>6</th>\n",
       "      <td>2018-12-28</td>\n",
       "      <td>109</td>\n",
       "      <td>339</td>\n",
       "      <td>279</td>\n",
       "      <td>309</td>\n",
       "      <td>236</td>\n",
       "    </tr>\n",
       "    <tr>\n",
       "      <th>7</th>\n",
       "      <td>2018-12-29</td>\n",
       "      <td>99</td>\n",
       "      <td>275</td>\n",
       "      <td>201</td>\n",
       "      <td>223</td>\n",
       "      <td>188</td>\n",
       "    </tr>\n",
       "  </tbody>\n",
       "</table>\n",
       "</div>"
      ],
      "text/plain": [
       "         Date  Under $50  $50-100  $100-150  $150-200  $200-250\n",
       "0  2018-12-22        116      564       562       557       571\n",
       "1  2018-12-23        152      912       801       469       469\n",
       "2  2018-12-24        155      992       719       696       351\n",
       "3  2018-12-25        147      973       702       692       353\n",
       "4  2018-12-26        147      892       672       722       347\n",
       "5  2018-12-27        137      698       564       390       256\n",
       "6  2018-12-28        109      339       279       309       236\n",
       "7  2018-12-29         99      275       201       223       188"
      ]
     },
     "execution_count": 19,
     "metadata": {},
     "output_type": "execute_result"
    }
   ],
   "source": [
    "Nashville_airbnb"
   ]
  },
  {
   "cell_type": "code",
   "execution_count": null,
   "metadata": {},
   "outputs": [],
   "source": []
  }
 ],
 "metadata": {
  "kernelspec": {
   "display_name": "Python 3",
   "language": "python",
   "name": "python3"
  },
  "language_info": {
   "codemirror_mode": {
    "name": "ipython",
    "version": 3
   },
   "file_extension": ".py",
   "mimetype": "text/x-python",
   "name": "python",
   "nbconvert_exporter": "python",
   "pygments_lexer": "ipython3",
   "version": "3.6.5"
  }
 },
 "nbformat": 4,
 "nbformat_minor": 2
}
