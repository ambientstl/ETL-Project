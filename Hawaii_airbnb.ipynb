{
 "cells": [
  {
   "cell_type": "code",
   "execution_count": 1,
   "metadata": {},
   "outputs": [],
   "source": [
    "import csv\n",
    "import pandas as pd\n",
    "import datetime as dt"
   ]
  },
  {
   "cell_type": "code",
   "execution_count": 2,
   "metadata": {},
   "outputs": [],
   "source": [
    "path = \"Resources/Hawaii_calendar.csv\""
   ]
  },
  {
   "cell_type": "code",
   "execution_count": 3,
   "metadata": {},
   "outputs": [],
   "source": [
    "df1 = pd.read_csv(path)"
   ]
  },
  {
   "cell_type": "code",
   "execution_count": 4,
   "metadata": {},
   "outputs": [
    {
     "data": {
      "text/html": [
       "<div>\n",
       "<style scoped>\n",
       "    .dataframe tbody tr th:only-of-type {\n",
       "        vertical-align: middle;\n",
       "    }\n",
       "\n",
       "    .dataframe tbody tr th {\n",
       "        vertical-align: top;\n",
       "    }\n",
       "\n",
       "    .dataframe thead th {\n",
       "        text-align: right;\n",
       "    }\n",
       "</style>\n",
       "<table border=\"1\" class=\"dataframe\">\n",
       "  <thead>\n",
       "    <tr style=\"text-align: right;\">\n",
       "      <th></th>\n",
       "      <th>listing_id</th>\n",
       "      <th>date</th>\n",
       "      <th>available</th>\n",
       "      <th>price</th>\n",
       "    </tr>\n",
       "  </thead>\n",
       "  <tbody>\n",
       "    <tr>\n",
       "      <th>0</th>\n",
       "      <td>85701</td>\n",
       "      <td>2019-10-09</td>\n",
       "      <td>t</td>\n",
       "      <td>$222.00</td>\n",
       "    </tr>\n",
       "    <tr>\n",
       "      <th>1</th>\n",
       "      <td>87596</td>\n",
       "      <td>2019-08-27</td>\n",
       "      <td>t</td>\n",
       "      <td>$114.00</td>\n",
       "    </tr>\n",
       "    <tr>\n",
       "      <th>2</th>\n",
       "      <td>87596</td>\n",
       "      <td>2019-08-26</td>\n",
       "      <td>t</td>\n",
       "      <td>$114.00</td>\n",
       "    </tr>\n",
       "    <tr>\n",
       "      <th>3</th>\n",
       "      <td>87596</td>\n",
       "      <td>2019-08-25</td>\n",
       "      <td>t</td>\n",
       "      <td>$114.00</td>\n",
       "    </tr>\n",
       "    <tr>\n",
       "      <th>4</th>\n",
       "      <td>87596</td>\n",
       "      <td>2019-08-24</td>\n",
       "      <td>t</td>\n",
       "      <td>$114.00</td>\n",
       "    </tr>\n",
       "  </tbody>\n",
       "</table>\n",
       "</div>"
      ],
      "text/plain": [
       "   listing_id        date available    price\n",
       "0       85701  2019-10-09         t  $222.00\n",
       "1       87596  2019-08-27         t  $114.00\n",
       "2       87596  2019-08-26         t  $114.00\n",
       "3       87596  2019-08-25         t  $114.00\n",
       "4       87596  2019-08-24         t  $114.00"
      ]
     },
     "execution_count": 4,
     "metadata": {},
     "output_type": "execute_result"
    }
   ],
   "source": [
    "df1.head()"
   ]
  },
  {
   "cell_type": "code",
   "execution_count": 5,
   "metadata": {},
   "outputs": [],
   "source": [
    "df1 = df1.sort_values(by=\"date\",ascending= True)"
   ]
  },
  {
   "cell_type": "code",
   "execution_count": 6,
   "metadata": {
    "scrolled": true
   },
   "outputs": [
    {
     "data": {
      "text/html": [
       "<div>\n",
       "<style scoped>\n",
       "    .dataframe tbody tr th:only-of-type {\n",
       "        vertical-align: middle;\n",
       "    }\n",
       "\n",
       "    .dataframe tbody tr th {\n",
       "        vertical-align: top;\n",
       "    }\n",
       "\n",
       "    .dataframe thead th {\n",
       "        text-align: right;\n",
       "    }\n",
       "</style>\n",
       "<table border=\"1\" class=\"dataframe\">\n",
       "  <thead>\n",
       "    <tr style=\"text-align: right;\">\n",
       "      <th></th>\n",
       "      <th>listing_id</th>\n",
       "      <th>date</th>\n",
       "      <th>available</th>\n",
       "      <th>price</th>\n",
       "    </tr>\n",
       "  </thead>\n",
       "  <tbody>\n",
       "    <tr>\n",
       "      <th>8328569</th>\n",
       "      <td>30559393</td>\n",
       "      <td>2018-12-06</td>\n",
       "      <td>f</td>\n",
       "      <td>NaN</td>\n",
       "    </tr>\n",
       "    <tr>\n",
       "      <th>2750786</th>\n",
       "      <td>15356339</td>\n",
       "      <td>2018-12-06</td>\n",
       "      <td>f</td>\n",
       "      <td>NaN</td>\n",
       "    </tr>\n",
       "    <tr>\n",
       "      <th>2750421</th>\n",
       "      <td>15354845</td>\n",
       "      <td>2018-12-06</td>\n",
       "      <td>f</td>\n",
       "      <td>NaN</td>\n",
       "    </tr>\n",
       "    <tr>\n",
       "      <th>2750188</th>\n",
       "      <td>15286504</td>\n",
       "      <td>2018-12-06</td>\n",
       "      <td>f</td>\n",
       "      <td>NaN</td>\n",
       "    </tr>\n",
       "    <tr>\n",
       "      <th>5863302</th>\n",
       "      <td>23922173</td>\n",
       "      <td>2018-12-06</td>\n",
       "      <td>f</td>\n",
       "      <td>NaN</td>\n",
       "    </tr>\n",
       "  </tbody>\n",
       "</table>\n",
       "</div>"
      ],
      "text/plain": [
       "         listing_id        date available price\n",
       "8328569    30559393  2018-12-06         f   NaN\n",
       "2750786    15356339  2018-12-06         f   NaN\n",
       "2750421    15354845  2018-12-06         f   NaN\n",
       "2750188    15286504  2018-12-06         f   NaN\n",
       "5863302    23922173  2018-12-06         f   NaN"
      ]
     },
     "execution_count": 6,
     "metadata": {},
     "output_type": "execute_result"
    }
   ],
   "source": [
    "df1.head()"
   ]
  },
  {
   "cell_type": "code",
   "execution_count": 7,
   "metadata": {},
   "outputs": [
    {
     "data": {
      "text/plain": [
       "listing_id     int64\n",
       "date          object\n",
       "available     object\n",
       "price         object\n",
       "dtype: object"
      ]
     },
     "execution_count": 7,
     "metadata": {},
     "output_type": "execute_result"
    }
   ],
   "source": [
    "df1.dtypes"
   ]
  },
  {
   "cell_type": "code",
   "execution_count": 8,
   "metadata": {},
   "outputs": [],
   "source": [
    "df2 = df1\n",
    "timefmt = \"%Y-%m-%d\" \n",
    "df2['date'] = pd.to_datetime(df2['date'], format = timefmt, errors='coerce')"
   ]
  },
  {
   "cell_type": "code",
   "execution_count": 9,
   "metadata": {},
   "outputs": [
    {
     "data": {
      "text/html": [
       "<div>\n",
       "<style scoped>\n",
       "    .dataframe tbody tr th:only-of-type {\n",
       "        vertical-align: middle;\n",
       "    }\n",
       "\n",
       "    .dataframe tbody tr th {\n",
       "        vertical-align: top;\n",
       "    }\n",
       "\n",
       "    .dataframe thead th {\n",
       "        text-align: right;\n",
       "    }\n",
       "</style>\n",
       "<table border=\"1\" class=\"dataframe\">\n",
       "  <thead>\n",
       "    <tr style=\"text-align: right;\">\n",
       "      <th></th>\n",
       "      <th>listing_id</th>\n",
       "      <th>date</th>\n",
       "      <th>available</th>\n",
       "      <th>price</th>\n",
       "    </tr>\n",
       "  </thead>\n",
       "  <tbody>\n",
       "    <tr>\n",
       "      <th>8328569</th>\n",
       "      <td>30559393</td>\n",
       "      <td>2018-12-06</td>\n",
       "      <td>f</td>\n",
       "      <td>NaN</td>\n",
       "    </tr>\n",
       "    <tr>\n",
       "      <th>2750786</th>\n",
       "      <td>15356339</td>\n",
       "      <td>2018-12-06</td>\n",
       "      <td>f</td>\n",
       "      <td>NaN</td>\n",
       "    </tr>\n",
       "    <tr>\n",
       "      <th>2750421</th>\n",
       "      <td>15354845</td>\n",
       "      <td>2018-12-06</td>\n",
       "      <td>f</td>\n",
       "      <td>NaN</td>\n",
       "    </tr>\n",
       "    <tr>\n",
       "      <th>2750188</th>\n",
       "      <td>15286504</td>\n",
       "      <td>2018-12-06</td>\n",
       "      <td>f</td>\n",
       "      <td>NaN</td>\n",
       "    </tr>\n",
       "    <tr>\n",
       "      <th>5863302</th>\n",
       "      <td>23922173</td>\n",
       "      <td>2018-12-06</td>\n",
       "      <td>f</td>\n",
       "      <td>NaN</td>\n",
       "    </tr>\n",
       "  </tbody>\n",
       "</table>\n",
       "</div>"
      ],
      "text/plain": [
       "         listing_id       date available price\n",
       "8328569    30559393 2018-12-06         f   NaN\n",
       "2750786    15356339 2018-12-06         f   NaN\n",
       "2750421    15354845 2018-12-06         f   NaN\n",
       "2750188    15286504 2018-12-06         f   NaN\n",
       "5863302    23922173 2018-12-06         f   NaN"
      ]
     },
     "execution_count": 9,
     "metadata": {},
     "output_type": "execute_result"
    }
   ],
   "source": [
    "df2.head()"
   ]
  },
  {
   "cell_type": "code",
   "execution_count": 10,
   "metadata": {},
   "outputs": [
    {
     "data": {
      "text/plain": [
       "'2018-12-29'"
      ]
     },
     "execution_count": 10,
     "metadata": {},
     "output_type": "execute_result"
    }
   ],
   "source": [
    "today_dt = dt.date.today()\n",
    "today = dt.datetime.strftime(today_dt, '%Y-%m-%d')\n",
    "\n",
    "#extract year, month, and day as integers\n",
    "todayYear = int(dt.datetime.strftime(today_dt, '%Y'))\n",
    "todayMonth = int(dt.datetime.strftime(today_dt, '%m'))\n",
    "todayDay = int(dt.datetime.strftime(today_dt, '%d'))\n",
    "\n",
    "\n",
    "week_later_dt = dt.date(todayYear, todayMonth, todayDay) + dt.timedelta(days=8)\n",
    "week_later = dt.datetime.strftime(week_later_dt, '%Y-%m-%d')\n",
    "week_later"
   ]
  },
  {
   "cell_type": "code",
   "execution_count": 11,
   "metadata": {},
   "outputs": [
    {
     "data": {
      "text/html": [
       "<div>\n",
       "<style scoped>\n",
       "    .dataframe tbody tr th:only-of-type {\n",
       "        vertical-align: middle;\n",
       "    }\n",
       "\n",
       "    .dataframe tbody tr th {\n",
       "        vertical-align: top;\n",
       "    }\n",
       "\n",
       "    .dataframe thead th {\n",
       "        text-align: right;\n",
       "    }\n",
       "</style>\n",
       "<table border=\"1\" class=\"dataframe\">\n",
       "  <thead>\n",
       "    <tr style=\"text-align: right;\">\n",
       "      <th></th>\n",
       "      <th>listing_id</th>\n",
       "      <th>date</th>\n",
       "      <th>available</th>\n",
       "      <th>price</th>\n",
       "    </tr>\n",
       "  </thead>\n",
       "  <tbody>\n",
       "    <tr>\n",
       "      <th>7719442</th>\n",
       "      <td>29157045</td>\n",
       "      <td>2018-12-21</td>\n",
       "      <td>t</td>\n",
       "      <td>$600.00</td>\n",
       "    </tr>\n",
       "    <tr>\n",
       "      <th>1420802</th>\n",
       "      <td>8554592</td>\n",
       "      <td>2018-12-21</td>\n",
       "      <td>t</td>\n",
       "      <td>$171.00</td>\n",
       "    </tr>\n",
       "    <tr>\n",
       "      <th>2766286</th>\n",
       "      <td>15286543</td>\n",
       "      <td>2018-12-21</td>\n",
       "      <td>t</td>\n",
       "      <td>$420.00</td>\n",
       "    </tr>\n",
       "    <tr>\n",
       "      <th>5711775</th>\n",
       "      <td>23506039</td>\n",
       "      <td>2018-12-21</td>\n",
       "      <td>t</td>\n",
       "      <td>$110.00</td>\n",
       "    </tr>\n",
       "    <tr>\n",
       "      <th>8249257</th>\n",
       "      <td>30505002</td>\n",
       "      <td>2018-12-21</td>\n",
       "      <td>t</td>\n",
       "      <td>$155.00</td>\n",
       "    </tr>\n",
       "  </tbody>\n",
       "</table>\n",
       "</div>"
      ],
      "text/plain": [
       "         listing_id       date available    price\n",
       "7719442    29157045 2018-12-21         t  $600.00\n",
       "1420802     8554592 2018-12-21         t  $171.00\n",
       "2766286    15286543 2018-12-21         t  $420.00\n",
       "5711775    23506039 2018-12-21         t  $110.00\n",
       "8249257    30505002 2018-12-21         t  $155.00"
      ]
     },
     "execution_count": 11,
     "metadata": {},
     "output_type": "execute_result"
    }
   ],
   "source": [
    "df2 = df2.loc[(df2['date']>=today) & (df2['date']<week_later) & (df2['available']=='t'),:]\n",
    "df2.head()"
   ]
  },
  {
   "cell_type": "code",
   "execution_count": 12,
   "metadata": {},
   "outputs": [
    {
     "data": {
      "text/plain": [
       "listing_id             int64\n",
       "date          datetime64[ns]\n",
       "available             object\n",
       "price                 object\n",
       "dtype: object"
      ]
     },
     "execution_count": 12,
     "metadata": {},
     "output_type": "execute_result"
    }
   ],
   "source": [
    "df2['price'].value_counts().head()\n",
    "df2.dtypes"
   ]
  },
  {
   "cell_type": "code",
   "execution_count": 13,
   "metadata": {},
   "outputs": [
    {
     "name": "stderr",
     "output_type": "stream",
     "text": [
      "C:\\Users\\karth\\Anaconda3\\lib\\site-packages\\ipykernel_launcher.py:1: SettingWithCopyWarning: \n",
      "A value is trying to be set on a copy of a slice from a DataFrame.\n",
      "Try using .loc[row_indexer,col_indexer] = value instead\n",
      "\n",
      "See the caveats in the documentation: http://pandas.pydata.org/pandas-docs/stable/indexing.html#indexing-view-versus-copy\n",
      "  \"\"\"Entry point for launching an IPython kernel.\n"
     ]
    }
   ],
   "source": [
    "df2[\"new_price\"] = df2[\"price\"].str.strip('$')"
   ]
  },
  {
   "cell_type": "code",
   "execution_count": 14,
   "metadata": {},
   "outputs": [
    {
     "name": "stderr",
     "output_type": "stream",
     "text": [
      "C:\\Users\\karth\\Anaconda3\\lib\\site-packages\\ipykernel_launcher.py:1: SettingWithCopyWarning: \n",
      "A value is trying to be set on a copy of a slice from a DataFrame.\n",
      "Try using .loc[row_indexer,col_indexer] = value instead\n",
      "\n",
      "See the caveats in the documentation: http://pandas.pydata.org/pandas-docs/stable/indexing.html#indexing-view-versus-copy\n",
      "  \"\"\"Entry point for launching an IPython kernel.\n"
     ]
    }
   ],
   "source": [
    "df2[\"new_price\"] = pd.to_numeric(df2[\"new_price\"],errors='coerce')"
   ]
  },
  {
   "cell_type": "code",
   "execution_count": 15,
   "metadata": {},
   "outputs": [
    {
     "data": {
      "text/plain": [
       "listing_id             int64\n",
       "date          datetime64[ns]\n",
       "available             object\n",
       "price                 object\n",
       "new_price            float64\n",
       "dtype: object"
      ]
     },
     "execution_count": 15,
     "metadata": {},
     "output_type": "execute_result"
    }
   ],
   "source": [
    "df2.dtypes"
   ]
  },
  {
   "cell_type": "code",
   "execution_count": 16,
   "metadata": {},
   "outputs": [
    {
     "name": "stderr",
     "output_type": "stream",
     "text": [
      "C:\\Users\\karth\\Anaconda3\\lib\\site-packages\\ipykernel_launcher.py:7: SettingWithCopyWarning: \n",
      "A value is trying to be set on a copy of a slice from a DataFrame.\n",
      "Try using .loc[row_indexer,col_indexer] = value instead\n",
      "\n",
      "See the caveats in the documentation: http://pandas.pydata.org/pandas-docs/stable/indexing.html#indexing-view-versus-copy\n",
      "  import sys\n"
     ]
    }
   ],
   "source": [
    "\n",
    "bins = [0, 50, 100, 150, 200, 250]\n",
    "\n",
    "# Create the names for the four bins\n",
    "group_names = [\"Under $50\", \"$50-100\", \"$100-150\", \"$150-200\", \"$200-250\"]\n",
    "\n",
    "df2[\"price\"] = pd.cut(df2[\"new_price\"], bins, labels=group_names)"
   ]
  },
  {
   "cell_type": "code",
   "execution_count": 18,
   "metadata": {},
   "outputs": [],
   "source": [
    "# today_dt\n",
    "under_50 = []\n",
    "fifty_100 = []\n",
    "hundred_150 = []\n",
    "onefifty_200 = []\n",
    "twohundred_250 = []\n",
    "\n",
    "numdays = 8\n",
    "date_list = [today_dt + dt.timedelta(days=x) for x in range(0, numdays)]\n",
    "\n",
    "date_list = [dt.datetime.strftime(i, '%Y-%m-%d') for i in date_list]\n",
    "date_list\n",
    "\n",
    "for i in date_list:\n",
    "    prices = df2.loc[df2[\"date\"] == i, \"price\"].value_counts()\n",
    "    under_50.append(prices[0])\n",
    "    fifty_100.append(prices[1])\n",
    "    hundred_150.append(prices[2])\n",
    "    onefifty_200.append(prices[3])\n",
    "    twohundred_250.append(prices[4])"
   ]
  },
  {
   "cell_type": "code",
   "execution_count": 20,
   "metadata": {},
   "outputs": [],
   "source": [
    "df3 = pd.DataFrame({\"Date\": date_list, \n",
    "                     \"Under $50\": under_50, \n",
    "                     \"$50-100\": fifty_100, \n",
    "                     \"$100-150\": hundred_150,\n",
    "                     \"$150-200\": onefifty_200,\n",
    "                     \"$200-250\": twohundred_250\n",
    "                    })\n",
    "df3\n",
    "hawaii_airbnb = df3\n",
    "# df3.set_index(\"Date\")"
   ]
  },
  {
   "cell_type": "code",
   "execution_count": 22,
   "metadata": {},
   "outputs": [
    {
     "data": {
      "text/html": [
       "<div>\n",
       "<style scoped>\n",
       "    .dataframe tbody tr th:only-of-type {\n",
       "        vertical-align: middle;\n",
       "    }\n",
       "\n",
       "    .dataframe tbody tr th {\n",
       "        vertical-align: top;\n",
       "    }\n",
       "\n",
       "    .dataframe thead th {\n",
       "        text-align: right;\n",
       "    }\n",
       "</style>\n",
       "<table border=\"1\" class=\"dataframe\">\n",
       "  <thead>\n",
       "    <tr style=\"text-align: right;\">\n",
       "      <th></th>\n",
       "      <th>Date</th>\n",
       "      <th>Under $50</th>\n",
       "      <th>$50-100</th>\n",
       "      <th>$100-150</th>\n",
       "      <th>$150-200</th>\n",
       "      <th>$200-250</th>\n",
       "    </tr>\n",
       "  </thead>\n",
       "  <tbody>\n",
       "    <tr>\n",
       "      <th>0</th>\n",
       "      <td>2018-12-21</td>\n",
       "      <td>251</td>\n",
       "      <td>1102</td>\n",
       "      <td>1074</td>\n",
       "      <td>858</td>\n",
       "      <td>580</td>\n",
       "    </tr>\n",
       "    <tr>\n",
       "      <th>1</th>\n",
       "      <td>2018-12-22</td>\n",
       "      <td>198</td>\n",
       "      <td>984</td>\n",
       "      <td>968</td>\n",
       "      <td>710</td>\n",
       "      <td>505</td>\n",
       "    </tr>\n",
       "    <tr>\n",
       "      <th>2</th>\n",
       "      <td>2018-12-23</td>\n",
       "      <td>210</td>\n",
       "      <td>931</td>\n",
       "      <td>851</td>\n",
       "      <td>636</td>\n",
       "      <td>488</td>\n",
       "    </tr>\n",
       "    <tr>\n",
       "      <th>3</th>\n",
       "      <td>2018-12-24</td>\n",
       "      <td>190</td>\n",
       "      <td>782</td>\n",
       "      <td>633</td>\n",
       "      <td>476</td>\n",
       "      <td>336</td>\n",
       "    </tr>\n",
       "    <tr>\n",
       "      <th>4</th>\n",
       "      <td>2018-12-25</td>\n",
       "      <td>162</td>\n",
       "      <td>663</td>\n",
       "      <td>508</td>\n",
       "      <td>362</td>\n",
       "      <td>256</td>\n",
       "    </tr>\n",
       "    <tr>\n",
       "      <th>5</th>\n",
       "      <td>2018-12-26</td>\n",
       "      <td>175</td>\n",
       "      <td>615</td>\n",
       "      <td>425</td>\n",
       "      <td>307</td>\n",
       "      <td>205</td>\n",
       "    </tr>\n",
       "    <tr>\n",
       "      <th>6</th>\n",
       "      <td>2018-12-27</td>\n",
       "      <td>168</td>\n",
       "      <td>519</td>\n",
       "      <td>352</td>\n",
       "      <td>260</td>\n",
       "      <td>157</td>\n",
       "    </tr>\n",
       "    <tr>\n",
       "      <th>7</th>\n",
       "      <td>2018-12-28</td>\n",
       "      <td>153</td>\n",
       "      <td>480</td>\n",
       "      <td>315</td>\n",
       "      <td>227</td>\n",
       "      <td>110</td>\n",
       "    </tr>\n",
       "  </tbody>\n",
       "</table>\n",
       "</div>"
      ],
      "text/plain": [
       "         Date  Under $50  $50-100  $100-150  $150-200  $200-250\n",
       "0  2018-12-21        251     1102      1074       858       580\n",
       "1  2018-12-22        198      984       968       710       505\n",
       "2  2018-12-23        210      931       851       636       488\n",
       "3  2018-12-24        190      782       633       476       336\n",
       "4  2018-12-25        162      663       508       362       256\n",
       "5  2018-12-26        175      615       425       307       205\n",
       "6  2018-12-27        168      519       352       260       157\n",
       "7  2018-12-28        153      480       315       227       110"
      ]
     },
     "execution_count": 22,
     "metadata": {},
     "output_type": "execute_result"
    }
   ],
   "source": [
    "hawaii_airbnb"
   ]
  },
  {
   "cell_type": "code",
   "execution_count": null,
   "metadata": {},
   "outputs": [],
   "source": []
  }
 ],
 "metadata": {
  "kernelspec": {
   "display_name": "Python 3",
   "language": "python",
   "name": "python3"
  },
  "language_info": {
   "codemirror_mode": {
    "name": "ipython",
    "version": 3
   },
   "file_extension": ".py",
   "mimetype": "text/x-python",
   "name": "python",
   "nbconvert_exporter": "python",
   "pygments_lexer": "ipython3",
   "version": "3.6.5"
  }
 },
 "nbformat": 4,
 "nbformat_minor": 2
}
