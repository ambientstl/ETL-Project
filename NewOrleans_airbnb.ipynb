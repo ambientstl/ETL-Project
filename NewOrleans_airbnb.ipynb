{
 "cells": [
  {
   "cell_type": "code",
   "execution_count": 1,
   "metadata": {},
   "outputs": [],
   "source": [
    "import csv\n",
    "import pandas as pd\n",
    "import datetime as dt"
   ]
  },
  {
   "cell_type": "code",
   "execution_count": 2,
   "metadata": {},
   "outputs": [],
   "source": [
    "path = \"Resources/NewOrleans_calendar.csv\""
   ]
  },
  {
   "cell_type": "code",
   "execution_count": 3,
   "metadata": {},
   "outputs": [],
   "source": [
    "df1 = pd.read_csv(path)"
   ]
  },
  {
   "cell_type": "code",
   "execution_count": 4,
   "metadata": {},
   "outputs": [
    {
     "data": {
      "text/html": [
       "<div>\n",
       "<style scoped>\n",
       "    .dataframe tbody tr th:only-of-type {\n",
       "        vertical-align: middle;\n",
       "    }\n",
       "\n",
       "    .dataframe tbody tr th {\n",
       "        vertical-align: top;\n",
       "    }\n",
       "\n",
       "    .dataframe thead th {\n",
       "        text-align: right;\n",
       "    }\n",
       "</style>\n",
       "<table border=\"1\" class=\"dataframe\">\n",
       "  <thead>\n",
       "    <tr style=\"text-align: right;\">\n",
       "      <th></th>\n",
       "      <th>listing_id</th>\n",
       "      <th>date</th>\n",
       "      <th>available</th>\n",
       "      <th>price</th>\n",
       "    </tr>\n",
       "  </thead>\n",
       "  <tbody>\n",
       "    <tr>\n",
       "      <th>0</th>\n",
       "      <td>10291</td>\n",
       "      <td>2019-12-05</td>\n",
       "      <td>t</td>\n",
       "      <td>$314.00</td>\n",
       "    </tr>\n",
       "    <tr>\n",
       "      <th>1</th>\n",
       "      <td>10291</td>\n",
       "      <td>2019-12-04</td>\n",
       "      <td>t</td>\n",
       "      <td>$314.00</td>\n",
       "    </tr>\n",
       "    <tr>\n",
       "      <th>2</th>\n",
       "      <td>10291</td>\n",
       "      <td>2019-12-03</td>\n",
       "      <td>t</td>\n",
       "      <td>$314.00</td>\n",
       "    </tr>\n",
       "    <tr>\n",
       "      <th>3</th>\n",
       "      <td>10291</td>\n",
       "      <td>2019-12-02</td>\n",
       "      <td>t</td>\n",
       "      <td>$314.00</td>\n",
       "    </tr>\n",
       "    <tr>\n",
       "      <th>4</th>\n",
       "      <td>10291</td>\n",
       "      <td>2019-12-01</td>\n",
       "      <td>t</td>\n",
       "      <td>$314.00</td>\n",
       "    </tr>\n",
       "  </tbody>\n",
       "</table>\n",
       "</div>"
      ],
      "text/plain": [
       "   listing_id        date available    price\n",
       "0       10291  2019-12-05         t  $314.00\n",
       "1       10291  2019-12-04         t  $314.00\n",
       "2       10291  2019-12-03         t  $314.00\n",
       "3       10291  2019-12-02         t  $314.00\n",
       "4       10291  2019-12-01         t  $314.00"
      ]
     },
     "execution_count": 4,
     "metadata": {},
     "output_type": "execute_result"
    }
   ],
   "source": [
    "df1.head()"
   ]
  },
  {
   "cell_type": "code",
   "execution_count": 5,
   "metadata": {},
   "outputs": [],
   "source": [
    "df2 = df1\n",
    "timefmt = \"%Y-%m-%d\" \n",
    "df2['date'] = pd.to_datetime(df2['date'], format = timefmt, errors='coerce')"
   ]
  },
  {
   "cell_type": "code",
   "execution_count": 6,
   "metadata": {},
   "outputs": [
    {
     "data": {
      "text/html": [
       "<div>\n",
       "<style scoped>\n",
       "    .dataframe tbody tr th:only-of-type {\n",
       "        vertical-align: middle;\n",
       "    }\n",
       "\n",
       "    .dataframe tbody tr th {\n",
       "        vertical-align: top;\n",
       "    }\n",
       "\n",
       "    .dataframe thead th {\n",
       "        text-align: right;\n",
       "    }\n",
       "</style>\n",
       "<table border=\"1\" class=\"dataframe\">\n",
       "  <thead>\n",
       "    <tr style=\"text-align: right;\">\n",
       "      <th></th>\n",
       "      <th>listing_id</th>\n",
       "      <th>date</th>\n",
       "      <th>available</th>\n",
       "      <th>price</th>\n",
       "    </tr>\n",
       "  </thead>\n",
       "  <tbody>\n",
       "    <tr>\n",
       "      <th>0</th>\n",
       "      <td>10291</td>\n",
       "      <td>2019-12-05</td>\n",
       "      <td>t</td>\n",
       "      <td>$314.00</td>\n",
       "    </tr>\n",
       "    <tr>\n",
       "      <th>1</th>\n",
       "      <td>10291</td>\n",
       "      <td>2019-12-04</td>\n",
       "      <td>t</td>\n",
       "      <td>$314.00</td>\n",
       "    </tr>\n",
       "    <tr>\n",
       "      <th>2</th>\n",
       "      <td>10291</td>\n",
       "      <td>2019-12-03</td>\n",
       "      <td>t</td>\n",
       "      <td>$314.00</td>\n",
       "    </tr>\n",
       "    <tr>\n",
       "      <th>3</th>\n",
       "      <td>10291</td>\n",
       "      <td>2019-12-02</td>\n",
       "      <td>t</td>\n",
       "      <td>$314.00</td>\n",
       "    </tr>\n",
       "    <tr>\n",
       "      <th>4</th>\n",
       "      <td>10291</td>\n",
       "      <td>2019-12-01</td>\n",
       "      <td>t</td>\n",
       "      <td>$314.00</td>\n",
       "    </tr>\n",
       "  </tbody>\n",
       "</table>\n",
       "</div>"
      ],
      "text/plain": [
       "   listing_id       date available    price\n",
       "0       10291 2019-12-05         t  $314.00\n",
       "1       10291 2019-12-04         t  $314.00\n",
       "2       10291 2019-12-03         t  $314.00\n",
       "3       10291 2019-12-02         t  $314.00\n",
       "4       10291 2019-12-01         t  $314.00"
      ]
     },
     "execution_count": 6,
     "metadata": {},
     "output_type": "execute_result"
    }
   ],
   "source": [
    "df2.head()"
   ]
  },
  {
   "cell_type": "code",
   "execution_count": 7,
   "metadata": {},
   "outputs": [
    {
     "data": {
      "text/plain": [
       "'2018-12-29'"
      ]
     },
     "execution_count": 7,
     "metadata": {},
     "output_type": "execute_result"
    }
   ],
   "source": [
    "today_dt = dt.date.today()\n",
    "today = dt.datetime.strftime(today_dt, '%Y-%m-%d')\n",
    "\n",
    "#extract year, month, and day as integers\n",
    "todayYear = int(dt.datetime.strftime(today_dt, '%Y'))\n",
    "todayMonth = int(dt.datetime.strftime(today_dt, '%m'))\n",
    "todayDay = int(dt.datetime.strftime(today_dt, '%d'))\n",
    "\n",
    "\n",
    "week_later_dt = dt.date(todayYear, todayMonth, todayDay) + dt.timedelta(days=8)\n",
    "week_later = dt.datetime.strftime(week_later_dt, '%Y-%m-%d')\n",
    "week_later"
   ]
  },
  {
   "cell_type": "code",
   "execution_count": 8,
   "metadata": {},
   "outputs": [
    {
     "data": {
      "text/html": [
       "<div>\n",
       "<style scoped>\n",
       "    .dataframe tbody tr th:only-of-type {\n",
       "        vertical-align: middle;\n",
       "    }\n",
       "\n",
       "    .dataframe tbody tr th {\n",
       "        vertical-align: top;\n",
       "    }\n",
       "\n",
       "    .dataframe thead th {\n",
       "        text-align: right;\n",
       "    }\n",
       "</style>\n",
       "<table border=\"1\" class=\"dataframe\">\n",
       "  <thead>\n",
       "    <tr style=\"text-align: right;\">\n",
       "      <th></th>\n",
       "      <th>listing_id</th>\n",
       "      <th>date</th>\n",
       "      <th>available</th>\n",
       "      <th>price</th>\n",
       "    </tr>\n",
       "  </thead>\n",
       "  <tbody>\n",
       "    <tr>\n",
       "      <th>2375404</th>\n",
       "      <td>30446566</td>\n",
       "      <td>2018-12-21</td>\n",
       "      <td>t</td>\n",
       "      <td>$115.00</td>\n",
       "    </tr>\n",
       "    <tr>\n",
       "      <th>1385897</th>\n",
       "      <td>22332046</td>\n",
       "      <td>2018-12-21</td>\n",
       "      <td>t</td>\n",
       "      <td>$228.00</td>\n",
       "    </tr>\n",
       "    <tr>\n",
       "      <th>395106</th>\n",
       "      <td>9385953</td>\n",
       "      <td>2018-12-21</td>\n",
       "      <td>t</td>\n",
       "      <td>$110.00</td>\n",
       "    </tr>\n",
       "    <tr>\n",
       "      <th>1385770</th>\n",
       "      <td>22367529</td>\n",
       "      <td>2018-12-21</td>\n",
       "      <td>t</td>\n",
       "      <td>$228.00</td>\n",
       "    </tr>\n",
       "    <tr>\n",
       "      <th>1384034</th>\n",
       "      <td>22531429</td>\n",
       "      <td>2018-12-21</td>\n",
       "      <td>t</td>\n",
       "      <td>$447.00</td>\n",
       "    </tr>\n",
       "  </tbody>\n",
       "</table>\n",
       "</div>"
      ],
      "text/plain": [
       "         listing_id       date available    price\n",
       "2375404    30446566 2018-12-21         t  $115.00\n",
       "1385897    22332046 2018-12-21         t  $228.00\n",
       "395106      9385953 2018-12-21         t  $110.00\n",
       "1385770    22367529 2018-12-21         t  $228.00\n",
       "1384034    22531429 2018-12-21         t  $447.00"
      ]
     },
     "execution_count": 8,
     "metadata": {},
     "output_type": "execute_result"
    }
   ],
   "source": [
    "df2 = df2.loc[(df2['date']>=today) & (df2['date']<week_later) & (df2['available']=='t'),:]\n",
    "df2.head()"
   ]
  },
  {
   "cell_type": "code",
   "execution_count": 9,
   "metadata": {},
   "outputs": [],
   "source": [
    "df2[\"new_price\"] = df2[\"price\"].str.strip('$')"
   ]
  },
  {
   "cell_type": "code",
   "execution_count": 10,
   "metadata": {},
   "outputs": [],
   "source": [
    "df2[\"new_price\"] = pd.to_numeric(df2[\"new_price\"],errors='coerce')"
   ]
  },
  {
   "cell_type": "code",
   "execution_count": 11,
   "metadata": {},
   "outputs": [],
   "source": [
    "\n",
    "bins = [0, 50, 100, 150, 200, 250]\n",
    "\n",
    "# Create the names for the four bins\n",
    "group_names = [\"Under $50\", \"$50-100\", \"$100-150\", \"$150-200\", \"$200-250\"]\n",
    "\n",
    "df2[\"price\"] = pd.cut(df2[\"new_price\"], bins, labels=group_names)"
   ]
  },
  {
   "cell_type": "code",
   "execution_count": 12,
   "metadata": {},
   "outputs": [],
   "source": [
    "under_50 = []\n",
    "fifty_100 = []\n",
    "hundred_150 = []\n",
    "onefifty_200 = []\n",
    "twohundred_250 = []\n",
    "\n",
    "numdays = 8\n",
    "date_list = [today_dt + dt.timedelta(days=x) for x in range(0, numdays)]\n",
    "\n",
    "date_list = [dt.datetime.strftime(i, '%Y-%m-%d') for i in date_list]\n",
    "date_list\n",
    "\n",
    "for i in date_list:\n",
    "    prices = df2.loc[df2[\"date\"] == i, \"price\"].value_counts()\n",
    "    under_50.append(prices[0])\n",
    "    fifty_100.append(prices[1])\n",
    "    hundred_150.append(prices[2])\n",
    "    onefifty_200.append(prices[3])\n",
    "    twohundred_250.append(prices[4])"
   ]
  },
  {
   "cell_type": "code",
   "execution_count": 13,
   "metadata": {},
   "outputs": [],
   "source": [
    "df3 = pd.DataFrame({\"Date\": date_list, \n",
    "                     \"Under $50\": under_50, \n",
    "                     \"$50-100\": fifty_100, \n",
    "                     \"$100-150\": hundred_150,\n",
    "                     \"$150-200\": onefifty_200,\n",
    "                     \"$200-250\": twohundred_250\n",
    "                    })\n",
    "df3\n",
    "NewOrleans_airbnb = df3"
   ]
  },
  {
   "cell_type": "code",
   "execution_count": 14,
   "metadata": {},
   "outputs": [
    {
     "data": {
      "text/html": [
       "<div>\n",
       "<style scoped>\n",
       "    .dataframe tbody tr th:only-of-type {\n",
       "        vertical-align: middle;\n",
       "    }\n",
       "\n",
       "    .dataframe tbody tr th {\n",
       "        vertical-align: top;\n",
       "    }\n",
       "\n",
       "    .dataframe thead th {\n",
       "        text-align: right;\n",
       "    }\n",
       "</style>\n",
       "<table border=\"1\" class=\"dataframe\">\n",
       "  <thead>\n",
       "    <tr style=\"text-align: right;\">\n",
       "      <th></th>\n",
       "      <th>Date</th>\n",
       "      <th>Under $50</th>\n",
       "      <th>$50-100</th>\n",
       "      <th>$100-150</th>\n",
       "      <th>$150-200</th>\n",
       "      <th>$200-250</th>\n",
       "    </tr>\n",
       "  </thead>\n",
       "  <tbody>\n",
       "    <tr>\n",
       "      <th>0</th>\n",
       "      <td>2018-12-21</td>\n",
       "      <td>97</td>\n",
       "      <td>802</td>\n",
       "      <td>1016</td>\n",
       "      <td>567</td>\n",
       "      <td>283</td>\n",
       "    </tr>\n",
       "    <tr>\n",
       "      <th>1</th>\n",
       "      <td>2018-12-22</td>\n",
       "      <td>70</td>\n",
       "      <td>606</td>\n",
       "      <td>849</td>\n",
       "      <td>467</td>\n",
       "      <td>251</td>\n",
       "    </tr>\n",
       "    <tr>\n",
       "      <th>2</th>\n",
       "      <td>2018-12-23</td>\n",
       "      <td>82</td>\n",
       "      <td>845</td>\n",
       "      <td>701</td>\n",
       "      <td>438</td>\n",
       "      <td>207</td>\n",
       "    </tr>\n",
       "    <tr>\n",
       "      <th>3</th>\n",
       "      <td>2018-12-24</td>\n",
       "      <td>96</td>\n",
       "      <td>833</td>\n",
       "      <td>752</td>\n",
       "      <td>431</td>\n",
       "      <td>235</td>\n",
       "    </tr>\n",
       "    <tr>\n",
       "      <th>4</th>\n",
       "      <td>2018-12-25</td>\n",
       "      <td>97</td>\n",
       "      <td>833</td>\n",
       "      <td>729</td>\n",
       "      <td>441</td>\n",
       "      <td>248</td>\n",
       "    </tr>\n",
       "    <tr>\n",
       "      <th>5</th>\n",
       "      <td>2018-12-26</td>\n",
       "      <td>95</td>\n",
       "      <td>796</td>\n",
       "      <td>757</td>\n",
       "      <td>402</td>\n",
       "      <td>204</td>\n",
       "    </tr>\n",
       "    <tr>\n",
       "      <th>6</th>\n",
       "      <td>2018-12-27</td>\n",
       "      <td>67</td>\n",
       "      <td>624</td>\n",
       "      <td>622</td>\n",
       "      <td>371</td>\n",
       "      <td>221</td>\n",
       "    </tr>\n",
       "    <tr>\n",
       "      <th>7</th>\n",
       "      <td>2018-12-28</td>\n",
       "      <td>32</td>\n",
       "      <td>229</td>\n",
       "      <td>302</td>\n",
       "      <td>369</td>\n",
       "      <td>274</td>\n",
       "    </tr>\n",
       "  </tbody>\n",
       "</table>\n",
       "</div>"
      ],
      "text/plain": [
       "         Date  Under $50  $50-100  $100-150  $150-200  $200-250\n",
       "0  2018-12-21         97      802      1016       567       283\n",
       "1  2018-12-22         70      606       849       467       251\n",
       "2  2018-12-23         82      845       701       438       207\n",
       "3  2018-12-24         96      833       752       431       235\n",
       "4  2018-12-25         97      833       729       441       248\n",
       "5  2018-12-26         95      796       757       402       204\n",
       "6  2018-12-27         67      624       622       371       221\n",
       "7  2018-12-28         32      229       302       369       274"
      ]
     },
     "execution_count": 14,
     "metadata": {},
     "output_type": "execute_result"
    }
   ],
   "source": [
    "NewOrleans_airbnb"
   ]
  },
  {
   "cell_type": "code",
   "execution_count": null,
   "metadata": {},
   "outputs": [],
   "source": []
  }
 ],
 "metadata": {
  "kernelspec": {
   "display_name": "Python 3",
   "language": "python",
   "name": "python3"
  },
  "language_info": {
   "codemirror_mode": {
    "name": "ipython",
    "version": 3
   },
   "file_extension": ".py",
   "mimetype": "text/x-python",
   "name": "python",
   "nbconvert_exporter": "python",
   "pygments_lexer": "ipython3",
   "version": "3.6.5"
  }
 },
 "nbformat": 4,
 "nbformat_minor": 2
}
