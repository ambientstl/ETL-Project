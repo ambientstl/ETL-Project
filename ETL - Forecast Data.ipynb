{
 "cells": [
  {
   "cell_type": "code",
   "execution_count": 8,
   "metadata": {},
   "outputs": [],
   "source": [
    "import requests\n",
    "import json\n",
    "import forecastio\n",
    "from pprint import pprint\n",
    "from geopy.geocoders import Nominatim"
   ]
  },
  {
   "cell_type": "code",
   "execution_count": 2,
   "metadata": {},
   "outputs": [],
   "source": [
    "api_key = \"a36c8345cc74c469a50078545e4970de\""
   ]
  },
  {
   "cell_type": "code",
   "execution_count": 3,
   "metadata": {},
   "outputs": [
    {
     "data": {
      "text/plain": [
       "[38.6272733, -90.1978889]"
      ]
     },
     "execution_count": 3,
     "metadata": {},
     "output_type": "execute_result"
    }
   ],
   "source": [
    "geolocator = Nominatim(user_agent=\"ETL_Project\")\n",
    "\n",
    "location = geolocator.geocode(\"St. Louis, MO\")\n",
    "\n",
    "STL_coord = []\n",
    "STL_coord.append(location.latitude)\n",
    "STL_coord.append(location.longitude)\n",
    "\n",
    "STL_coord"
   ]
  },
  {
   "cell_type": "code",
   "execution_count": 22,
   "metadata": {},
   "outputs": [
    {
     "name": "stdout",
     "output_type": "stream",
     "text": [
      "Light rain on Thursday, with high temperatures falling to 40°F on Friday.\n",
      "rain\n",
      "49.65\n"
     ]
    }
   ],
   "source": [
    "forecast = forecastio.load_forecast(api_key, STL_coord[0], STL_coord[1])\n",
    "\n",
    "byDay = forecast.daily()\n",
    "print(byDay.summary)\n",
    "print(byDay.icon)\n",
    "print(byDay.data[4].temperatureHigh)"
   ]
  },
  {
   "cell_type": "code",
   "execution_count": 36,
   "metadata": {},
   "outputs": [
    {
     "name": "stdout",
     "output_type": "stream",
     "text": [
      "2018-12-18 06:00:00\n",
      "50.83\n",
      "50.83\n",
      "35.13\n",
      "28.18\n",
      "0.08\n",
      "0.0001\n",
      "rain\n",
      "------\n",
      "2018-12-19 06:00:00\n",
      "53.27\n",
      "53.27\n",
      "43.06\n",
      "35.13\n",
      "0.15\n",
      "0.0002\n",
      "rain\n",
      "------\n",
      "2018-12-20 06:00:00\n",
      "44.46\n",
      "46.14\n",
      "31.07\n",
      "38.1\n",
      "0.67\n",
      "0.0043\n",
      "rain\n",
      "------\n",
      "2018-12-21 06:00:00\n",
      "40.06\n",
      "40.06\n",
      "31.64\n",
      "30.59\n",
      "0.14\n",
      "0.0002\n",
      "snow\n",
      "------\n",
      "2018-12-22 06:00:00\n",
      "49.65\n",
      "49.65\n",
      "31.63\n",
      "31.64\n",
      "0\n",
      "0\n",
      "no precipitation\n",
      "------\n",
      "2018-12-23 06:00:00\n",
      "43.65\n",
      "43.65\n",
      "28.79\n",
      "31.63\n",
      "0\n",
      "0\n",
      "no precipitation\n",
      "------\n",
      "2018-12-24 06:00:00\n",
      "47.93\n",
      "47.93\n",
      "36.47\n",
      "28.79\n",
      "0.02\n",
      "0.0001\n",
      "rain\n",
      "------\n",
      "2018-12-25 06:00:00\n",
      "48.65\n",
      "48.65\n",
      "43.29\n",
      "36.47\n",
      "0.16\n",
      "0.0003\n",
      "rain\n",
      "------\n"
     ]
    }
   ],
   "source": [
    "for i in byDay.data:\n",
    "    print(i.time)\n",
    "    print(i.temperatureHigh)\n",
    "    print(i.temperatureMax)\n",
    "    print(i.temperatureLow)\n",
    "    print(i.temperatureMin)\n",
    "    print(i.precipProbability)\n",
    "    print(i.precipIntensity)\n",
    "    try:\n",
    "        print(i.precipType)\n",
    "    except:\n",
    "        print(\"no precipitation\")\n",
    "    print(\"------\")"
   ]
  },
  {
   "cell_type": "code",
   "execution_count": null,
   "metadata": {},
   "outputs": [],
   "source": []
  },
  {
   "cell_type": "code",
   "execution_count": null,
   "metadata": {},
   "outputs": [],
   "source": []
  }
 ],
 "metadata": {
  "kernelspec": {
   "display_name": "Python 3",
   "language": "python",
   "name": "python3"
  },
  "language_info": {
   "codemirror_mode": {
    "name": "ipython",
    "version": 3
   },
   "file_extension": ".py",
   "mimetype": "text/x-python",
   "name": "python",
   "nbconvert_exporter": "python",
   "pygments_lexer": "ipython3",
   "version": "3.6.5"
  }
 },
 "nbformat": 4,
 "nbformat_minor": 2
}
