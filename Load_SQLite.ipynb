{
 "cells": [
  {
   "cell_type": "code",
   "execution_count": 6,
   "metadata": {},
   "outputs": [],
   "source": [
    "import pandas as pd\n",
    "from sqlalchemy import create_engine\n",
    "import import_ipynb\n",
    "\n",
    "from Asheville_Forecast import ASH_table\n",
    "from Austin_Forecast import ATX_table\n",
    "from chicago_Forecast import CHI_table\n",
    "from Hawaii_Forecast import HI_table\n",
    "from Nashville_Forecast import NV_table\n",
    "from NewOrleans_Forecast import NO_table\n",
    "from Seattle_Forecast import Seattle_table\n",
    "from SFO_Forecast import SFO_table\n",
    "from WashingtonDC_Forecast import DC_table"
   ]
  },
  {
   "cell_type": "code",
   "execution_count": 8,
   "metadata": {},
   "outputs": [],
   "source": [
    "# make/connect to sqlite\n",
    "engine = create_engine('sqlite:///Database/AirBNB.sqlite')\n",
    "\n",
    "# transfer dataframes to sqlite db\n",
    "ASH_table.to_sql('Asheville', con=engine)\n",
    "ATX_table.to_sql('Austin', con=engine)\n",
    "CHI_table.to_sql('Chicago', con=engine)\n",
    "HI_table.to_sql('Hawaii', con=engine)\n",
    "NV_table.to_sql('Nashville', con=engine)\n",
    "NO_table.to_sql('New Orleans', con=engine)\n",
    "Seattle_table.to_sql('Seattle', con=engine)\n",
    "SFO_table.to_sql('San Francisco', con=engine)\n",
    "DC_table.to_sql('Washington DC', con=engine)\n"
   ]
  },
  {
   "cell_type": "code",
   "execution_count": null,
   "metadata": {},
   "outputs": [],
   "source": []
  }
 ],
 "metadata": {
  "kernelspec": {
   "display_name": "Python 3",
   "language": "python",
   "name": "python3"
  },
  "language_info": {
   "codemirror_mode": {
    "name": "ipython",
    "version": 3
   },
   "file_extension": ".py",
   "mimetype": "text/x-python",
   "name": "python",
   "nbconvert_exporter": "python",
   "pygments_lexer": "ipython3",
   "version": "3.6.5"
  }
 },
 "nbformat": 4,
 "nbformat_minor": 2
}
