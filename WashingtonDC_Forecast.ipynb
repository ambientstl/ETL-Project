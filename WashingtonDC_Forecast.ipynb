{
 "cells": [
  {
   "cell_type": "code",
   "execution_count": 1,
   "metadata": {},
   "outputs": [
    {
     "name": "stdout",
     "output_type": "stream",
     "text": [
      "importing Jupyter notebook from WashingtonDC_airbnb.ipynb\n"
     ]
    },
    {
     "name": "stderr",
     "output_type": "stream",
     "text": [
      "WashingtonDC_airbnb.ipynb:1: SettingWithCopyWarning: \n",
      "A value is trying to be set on a copy of a slice from a DataFrame.\n",
      "Try using .loc[row_indexer,col_indexer] = value instead\n",
      "\n",
      "See the caveats in the documentation: http://pandas.pydata.org/pandas-docs/stable/indexing.html#indexing-view-versus-copy\n",
      "  {\n",
      "WashingtonDC_airbnb.ipynb:2: SettingWithCopyWarning: \n",
      "A value is trying to be set on a copy of a slice from a DataFrame.\n",
      "Try using .loc[row_indexer,col_indexer] = value instead\n",
      "\n",
      "See the caveats in the documentation: http://pandas.pydata.org/pandas-docs/stable/indexing.html#indexing-view-versus-copy\n",
      "  \"cells\": [\n",
      "WashingtonDC_airbnb.ipynb:7: SettingWithCopyWarning: \n",
      "A value is trying to be set on a copy of a slice from a DataFrame.\n",
      "Try using .loc[row_indexer,col_indexer] = value instead\n",
      "\n",
      "See the caveats in the documentation: http://pandas.pydata.org/pandas-docs/stable/indexing.html#indexing-view-versus-copy\n",
      "  \"outputs\": [],\n"
     ]
    }
   ],
   "source": [
    "import requests\n",
    "import json\n",
    "import forecastio\n",
    "from geopy.geocoders import Nominatim\n",
    "import pandas as pd\n",
    "import import_ipynb\n",
    "from WashingtonDC_airbnb import WashingtonDC_airbnb\n",
    "import datetime as dt\n",
    "from config import api_key"
   ]
  },
  {
   "cell_type": "code",
   "execution_count": 2,
   "metadata": {},
   "outputs": [
    {
     "data": {
      "text/plain": [
       "[38.8950092, -77.0365625]"
      ]
     },
     "execution_count": 2,
     "metadata": {},
     "output_type": "execute_result"
    }
   ],
   "source": [
    "geolocator = Nominatim(user_agent=\"ETL_Project\")\n",
    "\n",
    "location = geolocator.geocode(\"Washington DC\")\n",
    "\n",
    "DC_coord = []\n",
    "DC_coord.append(location.latitude)\n",
    "DC_coord.append(location.longitude)\n",
    "\n",
    "DC_coord"
   ]
  },
  {
   "cell_type": "code",
   "execution_count": 3,
   "metadata": {},
   "outputs": [
    {
     "name": "stdout",
     "output_type": "stream",
     "text": [
      "Mixed precipitation today through Friday, with high temperatures bottoming out at 41°F on Tuesday.\n",
      "rain\n",
      "49\n"
     ]
    }
   ],
   "source": [
    "forecast = forecastio.load_forecast(api_key, DC_coord[0], DC_coord[1])\n",
    "\n",
    "byDay = forecast.daily()\n",
    "print(byDay.summary)\n",
    "print(byDay.icon)\n",
    "print(byDay.data[4].temperatureHigh)"
   ]
  },
  {
   "cell_type": "code",
   "execution_count": 4,
   "metadata": {},
   "outputs": [
    {
     "data": {
      "text/plain": [
       "['2018-12-22',\n",
       " '2018-12-23',\n",
       " '2018-12-24',\n",
       " '2018-12-25',\n",
       " '2018-12-26',\n",
       " '2018-12-27',\n",
       " '2018-12-28',\n",
       " '2018-12-29']"
      ]
     },
     "execution_count": 4,
     "metadata": {},
     "output_type": "execute_result"
    }
   ],
   "source": [
    "temp_high = []\n",
    "temp_low = []\n",
    "precip_perc = []\n",
    "precip_type = []\n",
    "precip_int = []\n",
    "date = []\n",
    "\n",
    "for i in byDay.data:\n",
    "    date.append(i.time.date())\n",
    "    temp_high.append(i.temperatureHigh)\n",
    "    temp_low.append(i.temperatureLow)\n",
    "    precip_perc.append(i.precipProbability)\n",
    "    precip_int.append(i.precipIntensity)\n",
    "    try:\n",
    "        precip_type.append(i.precipType)\n",
    "    except:\n",
    "        precip_type.append(\"none\")\n",
    "\n",
    "date\n",
    "\n",
    "dates = [dt.datetime.strftime(i, '%Y-%m-%d') for i in date]\n",
    "dates"
   ]
  },
  {
   "cell_type": "code",
   "execution_count": 5,
   "metadata": {},
   "outputs": [
    {
     "data": {
      "text/plain": [
       "Date                          object\n",
       "High Temp                    float64\n",
       "Low Temp                     float64\n",
       "Precipitation Probability    float64\n",
       "Precipitation Intensity      float64\n",
       "Precipitation Type            object\n",
       "dtype: object"
      ]
     },
     "execution_count": 5,
     "metadata": {},
     "output_type": "execute_result"
    }
   ],
   "source": [
    "df = pd.DataFrame({\"Date\": dates, \n",
    "                     \"High Temp\": temp_high, \n",
    "                     \"Low Temp\": temp_low, \n",
    "                     \"Precipitation Probability\": precip_perc,\n",
    "                     \"Precipitation Intensity\": precip_int,\n",
    "                     \"Precipitation Type\": precip_type\n",
    "                    })\n",
    "df.dtypes"
   ]
  },
  {
   "cell_type": "code",
   "execution_count": 8,
   "metadata": {},
   "outputs": [
    {
     "data": {
      "text/html": [
       "<div>\n",
       "<style scoped>\n",
       "    .dataframe tbody tr th:only-of-type {\n",
       "        vertical-align: middle;\n",
       "    }\n",
       "\n",
       "    .dataframe tbody tr th {\n",
       "        vertical-align: top;\n",
       "    }\n",
       "\n",
       "    .dataframe thead th {\n",
       "        text-align: right;\n",
       "    }\n",
       "</style>\n",
       "<table border=\"1\" class=\"dataframe\">\n",
       "  <thead>\n",
       "    <tr style=\"text-align: right;\">\n",
       "      <th></th>\n",
       "      <th>Date</th>\n",
       "      <th>High Temp</th>\n",
       "      <th>Low Temp</th>\n",
       "      <th>Precipitation Probability</th>\n",
       "      <th>Precipitation Intensity</th>\n",
       "      <th>Precipitation Type</th>\n",
       "      <th>Under $50</th>\n",
       "      <th>$50-100</th>\n",
       "      <th>$100-150</th>\n",
       "      <th>$150-200</th>\n",
       "      <th>$200-250</th>\n",
       "      <th>City</th>\n",
       "    </tr>\n",
       "  </thead>\n",
       "  <tbody>\n",
       "    <tr>\n",
       "      <th>0</th>\n",
       "      <td>2018-12-22</td>\n",
       "      <td>50.75</td>\n",
       "      <td>31.43</td>\n",
       "      <td>0.55</td>\n",
       "      <td>0.0008</td>\n",
       "      <td>rain</td>\n",
       "      <td>472</td>\n",
       "      <td>1559</td>\n",
       "      <td>923</td>\n",
       "      <td>543</td>\n",
       "      <td>267</td>\n",
       "      <td>Washington, D.C</td>\n",
       "    </tr>\n",
       "    <tr>\n",
       "      <th>1</th>\n",
       "      <td>2018-12-23</td>\n",
       "      <td>46.46</td>\n",
       "      <td>37.39</td>\n",
       "      <td>0.19</td>\n",
       "      <td>0.0007</td>\n",
       "      <td>rain</td>\n",
       "      <td>485</td>\n",
       "      <td>1542</td>\n",
       "      <td>953</td>\n",
       "      <td>495</td>\n",
       "      <td>263</td>\n",
       "      <td>Washington, D.C</td>\n",
       "    </tr>\n",
       "    <tr>\n",
       "      <th>2</th>\n",
       "      <td>2018-12-24</td>\n",
       "      <td>41.88</td>\n",
       "      <td>30.38</td>\n",
       "      <td>0.15</td>\n",
       "      <td>0.0002</td>\n",
       "      <td>rain</td>\n",
       "      <td>470</td>\n",
       "      <td>1498</td>\n",
       "      <td>940</td>\n",
       "      <td>487</td>\n",
       "      <td>253</td>\n",
       "      <td>Washington, D.C</td>\n",
       "    </tr>\n",
       "    <tr>\n",
       "      <th>3</th>\n",
       "      <td>2018-12-25</td>\n",
       "      <td>41.21</td>\n",
       "      <td>29.77</td>\n",
       "      <td>0.02</td>\n",
       "      <td>0.0001</td>\n",
       "      <td>snow</td>\n",
       "      <td>468</td>\n",
       "      <td>1461</td>\n",
       "      <td>921</td>\n",
       "      <td>494</td>\n",
       "      <td>241</td>\n",
       "      <td>Washington, D.C</td>\n",
       "    </tr>\n",
       "    <tr>\n",
       "      <th>4</th>\n",
       "      <td>2018-12-26</td>\n",
       "      <td>49.00</td>\n",
       "      <td>32.26</td>\n",
       "      <td>0.05</td>\n",
       "      <td>0.0001</td>\n",
       "      <td>rain</td>\n",
       "      <td>470</td>\n",
       "      <td>1433</td>\n",
       "      <td>910</td>\n",
       "      <td>482</td>\n",
       "      <td>244</td>\n",
       "      <td>Washington, D.C</td>\n",
       "    </tr>\n",
       "    <tr>\n",
       "      <th>5</th>\n",
       "      <td>2018-12-27</td>\n",
       "      <td>47.96</td>\n",
       "      <td>45.07</td>\n",
       "      <td>0.47</td>\n",
       "      <td>0.0027</td>\n",
       "      <td>rain</td>\n",
       "      <td>473</td>\n",
       "      <td>1420</td>\n",
       "      <td>904</td>\n",
       "      <td>470</td>\n",
       "      <td>238</td>\n",
       "      <td>Washington, D.C</td>\n",
       "    </tr>\n",
       "    <tr>\n",
       "      <th>6</th>\n",
       "      <td>2018-12-28</td>\n",
       "      <td>65.45</td>\n",
       "      <td>48.52</td>\n",
       "      <td>0.94</td>\n",
       "      <td>0.0176</td>\n",
       "      <td>rain</td>\n",
       "      <td>451</td>\n",
       "      <td>1375</td>\n",
       "      <td>876</td>\n",
       "      <td>475</td>\n",
       "      <td>247</td>\n",
       "      <td>Washington, D.C</td>\n",
       "    </tr>\n",
       "    <tr>\n",
       "      <th>7</th>\n",
       "      <td>2018-12-29</td>\n",
       "      <td>57.08</td>\n",
       "      <td>36.03</td>\n",
       "      <td>0.00</td>\n",
       "      <td>0.0000</td>\n",
       "      <td>none</td>\n",
       "      <td>457</td>\n",
       "      <td>1380</td>\n",
       "      <td>883</td>\n",
       "      <td>497</td>\n",
       "      <td>254</td>\n",
       "      <td>Washington, D.C</td>\n",
       "    </tr>\n",
       "  </tbody>\n",
       "</table>\n",
       "</div>"
      ],
      "text/plain": [
       "         Date  High Temp  Low Temp  Precipitation Probability  \\\n",
       "0  2018-12-22      50.75     31.43                       0.55   \n",
       "1  2018-12-23      46.46     37.39                       0.19   \n",
       "2  2018-12-24      41.88     30.38                       0.15   \n",
       "3  2018-12-25      41.21     29.77                       0.02   \n",
       "4  2018-12-26      49.00     32.26                       0.05   \n",
       "5  2018-12-27      47.96     45.07                       0.47   \n",
       "6  2018-12-28      65.45     48.52                       0.94   \n",
       "7  2018-12-29      57.08     36.03                       0.00   \n",
       "\n",
       "   Precipitation Intensity Precipitation Type  Under $50  $50-100  $100-150  \\\n",
       "0                   0.0008               rain        472     1559       923   \n",
       "1                   0.0007               rain        485     1542       953   \n",
       "2                   0.0002               rain        470     1498       940   \n",
       "3                   0.0001               snow        468     1461       921   \n",
       "4                   0.0001               rain        470     1433       910   \n",
       "5                   0.0027               rain        473     1420       904   \n",
       "6                   0.0176               rain        451     1375       876   \n",
       "7                   0.0000               none        457     1380       883   \n",
       "\n",
       "   $150-200  $200-250             City  \n",
       "0       543       267  Washington, D.C  \n",
       "1       495       263  Washington, D.C  \n",
       "2       487       253  Washington, D.C  \n",
       "3       494       241  Washington, D.C  \n",
       "4       482       244  Washington, D.C  \n",
       "5       470       238  Washington, D.C  \n",
       "6       475       247  Washington, D.C  \n",
       "7       497       254  Washington, D.C  "
      ]
     },
     "execution_count": 8,
     "metadata": {},
     "output_type": "execute_result"
    }
   ],
   "source": [
    "DC_table = pd.merge(df, WashingtonDC_airbnb, on=\"Date\")\n",
    "DC_table[\"City\"] = \"Washington, D.C\"\n",
    "DC_table"
   ]
  },
  {
   "cell_type": "code",
   "execution_count": null,
   "metadata": {},
   "outputs": [],
   "source": []
  }
 ],
 "metadata": {
  "kernelspec": {
   "display_name": "Python 3",
   "language": "python",
   "name": "python3"
  },
  "language_info": {
   "codemirror_mode": {
    "name": "ipython",
    "version": 3
   },
   "file_extension": ".py",
   "mimetype": "text/x-python",
   "name": "python",
   "nbconvert_exporter": "python",
   "pygments_lexer": "ipython3",
   "version": "3.6.5"
  }
 },
 "nbformat": 4,
 "nbformat_minor": 2
}
