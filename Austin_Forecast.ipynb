{
 "cells": [
  {
   "cell_type": "code",
   "execution_count": 1,
   "metadata": {},
   "outputs": [
    {
     "name": "stdout",
     "output_type": "stream",
     "text": [
      "importing Jupyter notebook from Austin_airbnb.ipynb\n"
     ]
    },
    {
     "name": "stderr",
     "output_type": "stream",
     "text": [
      "Austin_airbnb.ipynb:1: SettingWithCopyWarning: \n",
      "A value is trying to be set on a copy of a slice from a DataFrame.\n",
      "Try using .loc[row_indexer,col_indexer] = value instead\n",
      "\n",
      "See the caveats in the documentation: http://pandas.pydata.org/pandas-docs/stable/indexing.html#indexing-view-versus-copy\n",
      "  {\n",
      "Austin_airbnb.ipynb:2: SettingWithCopyWarning: \n",
      "A value is trying to be set on a copy of a slice from a DataFrame.\n",
      "Try using .loc[row_indexer,col_indexer] = value instead\n",
      "\n",
      "See the caveats in the documentation: http://pandas.pydata.org/pandas-docs/stable/indexing.html#indexing-view-versus-copy\n",
      "  \"cells\": [\n",
      "Austin_airbnb.ipynb:6: SettingWithCopyWarning: \n",
      "A value is trying to be set on a copy of a slice from a DataFrame.\n",
      "Try using .loc[row_indexer,col_indexer] = value instead\n",
      "\n",
      "See the caveats in the documentation: http://pandas.pydata.org/pandas-docs/stable/indexing.html#indexing-view-versus-copy\n",
      "  \"metadata\": {},\n"
     ]
    }
   ],
   "source": [
    "import requests\n",
    "import json\n",
    "import forecastio\n",
    "from geopy.geocoders import Nominatim\n",
    "import pandas as pd\n",
    "import import_ipynb\n",
    "from Austin_airbnb import Austin_airbnb\n",
    "import datetime as dt\n",
    "from config import api_key"
   ]
  },
  {
   "cell_type": "code",
   "execution_count": 2,
   "metadata": {},
   "outputs": [
    {
     "data": {
      "text/plain": [
       "[30.2711286, -97.7436995]"
      ]
     },
     "execution_count": 2,
     "metadata": {},
     "output_type": "execute_result"
    }
   ],
   "source": [
    "geolocator = Nominatim(user_agent=\"ETL_Project\")\n",
    "\n",
    "location = geolocator.geocode(\"Austin, TX\")\n",
    "\n",
    "ATX_coord = []\n",
    "ATX_coord.append(location.latitude)\n",
    "ATX_coord.append(location.longitude)\n",
    "\n",
    "ATX_coord"
   ]
  },
  {
   "cell_type": "code",
   "execution_count": 3,
   "metadata": {},
   "outputs": [
    {
     "name": "stdout",
     "output_type": "stream",
     "text": [
      "Rain on Wednesday and Thursday, with high temperatures falling to 54°F next Saturday.\n",
      "rain\n",
      "69.91\n"
     ]
    }
   ],
   "source": [
    "forecast = forecastio.load_forecast(api_key, ATX_coord[0], ATX_coord[1])\n",
    "\n",
    "byDay = forecast.daily()\n",
    "print(byDay.summary)\n",
    "print(byDay.icon)\n",
    "print(byDay.data[4].temperatureHigh)"
   ]
  },
  {
   "cell_type": "code",
   "execution_count": 4,
   "metadata": {},
   "outputs": [
    {
     "data": {
      "text/plain": [
       "['2018-12-22',\n",
       " '2018-12-23',\n",
       " '2018-12-24',\n",
       " '2018-12-25',\n",
       " '2018-12-26',\n",
       " '2018-12-27',\n",
       " '2018-12-28',\n",
       " '2018-12-29']"
      ]
     },
     "execution_count": 4,
     "metadata": {},
     "output_type": "execute_result"
    }
   ],
   "source": [
    "temp_high = []\n",
    "temp_low = []\n",
    "precip_perc = []\n",
    "precip_type = []\n",
    "precip_int = []\n",
    "date = []\n",
    "\n",
    "for i in byDay.data:\n",
    "    date.append(i.time.date())\n",
    "    temp_high.append(i.temperatureHigh)\n",
    "    temp_low.append(i.temperatureLow)\n",
    "    precip_perc.append(i.precipProbability)\n",
    "    precip_int.append(i.precipIntensity)\n",
    "    try:\n",
    "        precip_type.append(i.precipType)\n",
    "    except:\n",
    "        precip_type.append(\"none\")\n",
    "\n",
    "date\n",
    "\n",
    "dates = [dt.datetime.strftime(i, '%Y-%m-%d') for i in date]\n",
    "dates"
   ]
  },
  {
   "cell_type": "code",
   "execution_count": 5,
   "metadata": {},
   "outputs": [
    {
     "data": {
      "text/plain": [
       "Date                          object\n",
       "High Temp                    float64\n",
       "Low Temp                     float64\n",
       "Precipitation Probability    float64\n",
       "Precipitation Intensity      float64\n",
       "Precipitation Type            object\n",
       "dtype: object"
      ]
     },
     "execution_count": 5,
     "metadata": {},
     "output_type": "execute_result"
    }
   ],
   "source": [
    "df = pd.DataFrame({\"Date\": dates, \n",
    "                     \"High Temp\": temp_high, \n",
    "                     \"Low Temp\": temp_low, \n",
    "                     \"Precipitation Probability\": precip_perc,\n",
    "                     \"Precipitation Intensity\": precip_int,\n",
    "                     \"Precipitation Type\": precip_type\n",
    "                    })\n",
    "df.dtypes"
   ]
  },
  {
   "cell_type": "code",
   "execution_count": 6,
   "metadata": {},
   "outputs": [
    {
     "data": {
      "text/html": [
       "<div>\n",
       "<style scoped>\n",
       "    .dataframe tbody tr th:only-of-type {\n",
       "        vertical-align: middle;\n",
       "    }\n",
       "\n",
       "    .dataframe tbody tr th {\n",
       "        vertical-align: top;\n",
       "    }\n",
       "\n",
       "    .dataframe thead th {\n",
       "        text-align: right;\n",
       "    }\n",
       "</style>\n",
       "<table border=\"1\" class=\"dataframe\">\n",
       "  <thead>\n",
       "    <tr style=\"text-align: right;\">\n",
       "      <th></th>\n",
       "      <th>Date</th>\n",
       "      <th>High Temp</th>\n",
       "      <th>Low Temp</th>\n",
       "      <th>Precipitation Probability</th>\n",
       "      <th>Precipitation Intensity</th>\n",
       "      <th>Precipitation Type</th>\n",
       "      <th>Under $50</th>\n",
       "      <th>$50-100</th>\n",
       "      <th>$100-150</th>\n",
       "      <th>$150-200</th>\n",
       "      <th>$200-250</th>\n",
       "      <th>City</th>\n",
       "    </tr>\n",
       "  </thead>\n",
       "  <tbody>\n",
       "    <tr>\n",
       "      <th>0</th>\n",
       "      <td>2018-12-22</td>\n",
       "      <td>73.86</td>\n",
       "      <td>45.60</td>\n",
       "      <td>0.05</td>\n",
       "      <td>0.0002</td>\n",
       "      <td>rain</td>\n",
       "      <td>532</td>\n",
       "      <td>1220</td>\n",
       "      <td>1039</td>\n",
       "      <td>678</td>\n",
       "      <td>360</td>\n",
       "      <td>Austin</td>\n",
       "    </tr>\n",
       "    <tr>\n",
       "      <th>1</th>\n",
       "      <td>2018-12-23</td>\n",
       "      <td>59.55</td>\n",
       "      <td>39.66</td>\n",
       "      <td>0.07</td>\n",
       "      <td>0.0002</td>\n",
       "      <td>rain</td>\n",
       "      <td>615</td>\n",
       "      <td>1335</td>\n",
       "      <td>980</td>\n",
       "      <td>610</td>\n",
       "      <td>294</td>\n",
       "      <td>Austin</td>\n",
       "    </tr>\n",
       "    <tr>\n",
       "      <th>2</th>\n",
       "      <td>2018-12-24</td>\n",
       "      <td>57.69</td>\n",
       "      <td>54.30</td>\n",
       "      <td>0.07</td>\n",
       "      <td>0.0006</td>\n",
       "      <td>rain</td>\n",
       "      <td>592</td>\n",
       "      <td>1291</td>\n",
       "      <td>963</td>\n",
       "      <td>602</td>\n",
       "      <td>273</td>\n",
       "      <td>Austin</td>\n",
       "    </tr>\n",
       "    <tr>\n",
       "      <th>3</th>\n",
       "      <td>2018-12-25</td>\n",
       "      <td>71.67</td>\n",
       "      <td>64.01</td>\n",
       "      <td>0.27</td>\n",
       "      <td>0.0034</td>\n",
       "      <td>rain</td>\n",
       "      <td>584</td>\n",
       "      <td>1267</td>\n",
       "      <td>960</td>\n",
       "      <td>598</td>\n",
       "      <td>270</td>\n",
       "      <td>Austin</td>\n",
       "    </tr>\n",
       "    <tr>\n",
       "      <th>4</th>\n",
       "      <td>2018-12-26</td>\n",
       "      <td>69.91</td>\n",
       "      <td>55.11</td>\n",
       "      <td>0.84</td>\n",
       "      <td>0.0342</td>\n",
       "      <td>rain</td>\n",
       "      <td>607</td>\n",
       "      <td>1286</td>\n",
       "      <td>996</td>\n",
       "      <td>579</td>\n",
       "      <td>276</td>\n",
       "      <td>Austin</td>\n",
       "    </tr>\n",
       "    <tr>\n",
       "      <th>5</th>\n",
       "      <td>2018-12-27</td>\n",
       "      <td>68.30</td>\n",
       "      <td>46.53</td>\n",
       "      <td>0.58</td>\n",
       "      <td>0.0114</td>\n",
       "      <td>rain</td>\n",
       "      <td>624</td>\n",
       "      <td>1274</td>\n",
       "      <td>955</td>\n",
       "      <td>588</td>\n",
       "      <td>276</td>\n",
       "      <td>Austin</td>\n",
       "    </tr>\n",
       "    <tr>\n",
       "      <th>6</th>\n",
       "      <td>2018-12-28</td>\n",
       "      <td>60.69</td>\n",
       "      <td>38.78</td>\n",
       "      <td>0.00</td>\n",
       "      <td>0.0000</td>\n",
       "      <td>none</td>\n",
       "      <td>525</td>\n",
       "      <td>1071</td>\n",
       "      <td>877</td>\n",
       "      <td>684</td>\n",
       "      <td>360</td>\n",
       "      <td>Austin</td>\n",
       "    </tr>\n",
       "    <tr>\n",
       "      <th>7</th>\n",
       "      <td>2018-12-29</td>\n",
       "      <td>48.68</td>\n",
       "      <td>36.41</td>\n",
       "      <td>0.34</td>\n",
       "      <td>0.0012</td>\n",
       "      <td>rain</td>\n",
       "      <td>523</td>\n",
       "      <td>1044</td>\n",
       "      <td>858</td>\n",
       "      <td>651</td>\n",
       "      <td>380</td>\n",
       "      <td>Austin</td>\n",
       "    </tr>\n",
       "  </tbody>\n",
       "</table>\n",
       "</div>"
      ],
      "text/plain": [
       "         Date  High Temp  Low Temp  Precipitation Probability  \\\n",
       "0  2018-12-22      73.86     45.60                       0.05   \n",
       "1  2018-12-23      59.55     39.66                       0.07   \n",
       "2  2018-12-24      57.69     54.30                       0.07   \n",
       "3  2018-12-25      71.67     64.01                       0.27   \n",
       "4  2018-12-26      69.91     55.11                       0.84   \n",
       "5  2018-12-27      68.30     46.53                       0.58   \n",
       "6  2018-12-28      60.69     38.78                       0.00   \n",
       "7  2018-12-29      48.68     36.41                       0.34   \n",
       "\n",
       "   Precipitation Intensity Precipitation Type  Under $50  $50-100  $100-150  \\\n",
       "0                   0.0002               rain        532     1220      1039   \n",
       "1                   0.0002               rain        615     1335       980   \n",
       "2                   0.0006               rain        592     1291       963   \n",
       "3                   0.0034               rain        584     1267       960   \n",
       "4                   0.0342               rain        607     1286       996   \n",
       "5                   0.0114               rain        624     1274       955   \n",
       "6                   0.0000               none        525     1071       877   \n",
       "7                   0.0012               rain        523     1044       858   \n",
       "\n",
       "   $150-200  $200-250    City  \n",
       "0       678       360  Austin  \n",
       "1       610       294  Austin  \n",
       "2       602       273  Austin  \n",
       "3       598       270  Austin  \n",
       "4       579       276  Austin  \n",
       "5       588       276  Austin  \n",
       "6       684       360  Austin  \n",
       "7       651       380  Austin  "
      ]
     },
     "execution_count": 6,
     "metadata": {},
     "output_type": "execute_result"
    }
   ],
   "source": [
    "ATX_table = pd.merge(df, Austin_airbnb, on=\"Date\")\n",
    "ATX_table[\"City\"] = \"Austin\"\n",
    "ATX_table"
   ]
  },
  {
   "cell_type": "code",
   "execution_count": null,
   "metadata": {},
   "outputs": [],
   "source": []
  },
  {
   "cell_type": "code",
   "execution_count": null,
   "metadata": {},
   "outputs": [],
   "source": []
  }
 ],
 "metadata": {
  "kernelspec": {
   "display_name": "Python 3",
   "language": "python",
   "name": "python3"
  },
  "language_info": {
   "codemirror_mode": {
    "name": "ipython",
    "version": 3
   },
   "file_extension": ".py",
   "mimetype": "text/x-python",
   "name": "python",
   "nbconvert_exporter": "python",
   "pygments_lexer": "ipython3",
   "version": "3.6.5"
  }
 },
 "nbformat": 4,
 "nbformat_minor": 2
}
