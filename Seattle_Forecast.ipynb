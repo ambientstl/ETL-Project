{
 "cells": [
  {
   "cell_type": "code",
   "execution_count": 1,
   "metadata": {},
   "outputs": [
    {
     "name": "stdout",
     "output_type": "stream",
     "text": [
      "importing Jupyter notebook from Seattle_airbnb.ipynb\n"
     ]
    },
    {
     "name": "stderr",
     "output_type": "stream",
     "text": [
      "Seattle_airbnb.ipynb:1: SettingWithCopyWarning: \n",
      "A value is trying to be set on a copy of a slice from a DataFrame.\n",
      "Try using .loc[row_indexer,col_indexer] = value instead\n",
      "\n",
      "See the caveats in the documentation: http://pandas.pydata.org/pandas-docs/stable/indexing.html#indexing-view-versus-copy\n",
      "  {\n",
      "Seattle_airbnb.ipynb:1: SettingWithCopyWarning: \n",
      "A value is trying to be set on a copy of a slice from a DataFrame.\n",
      "Try using .loc[row_indexer,col_indexer] = value instead\n",
      "\n",
      "See the caveats in the documentation: http://pandas.pydata.org/pandas-docs/stable/indexing.html#indexing-view-versus-copy\n",
      "  {\n",
      "Seattle_airbnb.ipynb:7: SettingWithCopyWarning: \n",
      "A value is trying to be set on a copy of a slice from a DataFrame.\n",
      "Try using .loc[row_indexer,col_indexer] = value instead\n",
      "\n",
      "See the caveats in the documentation: http://pandas.pydata.org/pandas-docs/stable/indexing.html#indexing-view-versus-copy\n",
      "  \"outputs\": [],\n"
     ]
    }
   ],
   "source": [
    "import requests\n",
    "import json\n",
    "import forecastio\n",
    "from geopy.geocoders import Nominatim\n",
    "import pandas as pd\n",
    "import import_ipynb\n",
    "from Seattle_airbnb import Seattle_airbnb\n",
    "import datetime as dt\n",
    "from config import api_key"
   ]
  },
  {
   "cell_type": "code",
   "execution_count": 2,
   "metadata": {},
   "outputs": [
    {
     "data": {
      "text/plain": [
       "[47.6038321, -122.3300624]"
      ]
     },
     "execution_count": 2,
     "metadata": {},
     "output_type": "execute_result"
    }
   ],
   "source": [
    "geolocator = Nominatim(user_agent=\"ETL_Project\")\n",
    "\n",
    "location = geolocator.geocode(\"Seattle, WA\")\n",
    "\n",
    "WA_coord = []\n",
    "WA_coord.append(location.latitude)\n",
    "WA_coord.append(location.longitude)\n",
    "\n",
    "WA_coord"
   ]
  },
  {
   "cell_type": "code",
   "execution_count": 3,
   "metadata": {},
   "outputs": [
    {
     "name": "stdout",
     "output_type": "stream",
     "text": [
      "Light rain today through Monday, with high temperatures bottoming out at 45°F on Tuesday.\n",
      "rain\n",
      "45.72\n"
     ]
    }
   ],
   "source": [
    "forecast = forecastio.load_forecast(api_key, WA_coord[0], WA_coord[1])\n",
    "\n",
    "byDay = forecast.daily()\n",
    "print(byDay.summary)\n",
    "print(byDay.icon)\n",
    "print(byDay.data[4].temperatureHigh)"
   ]
  },
  {
   "cell_type": "code",
   "execution_count": 4,
   "metadata": {},
   "outputs": [
    {
     "data": {
      "text/plain": [
       "['2018-12-22',\n",
       " '2018-12-23',\n",
       " '2018-12-24',\n",
       " '2018-12-25',\n",
       " '2018-12-26',\n",
       " '2018-12-27',\n",
       " '2018-12-28',\n",
       " '2018-12-29']"
      ]
     },
     "execution_count": 4,
     "metadata": {},
     "output_type": "execute_result"
    }
   ],
   "source": [
    "temp_high = []\n",
    "temp_low = []\n",
    "precip_perc = []\n",
    "precip_type = []\n",
    "precip_int = []\n",
    "date = []\n",
    "\n",
    "for i in byDay.data:\n",
    "    date.append(i.time.date())\n",
    "    temp_high.append(i.temperatureHigh)\n",
    "    temp_low.append(i.temperatureLow)\n",
    "    precip_perc.append(i.precipProbability)\n",
    "    precip_int.append(i.precipIntensity)\n",
    "    try:\n",
    "        precip_type.append(i.precipType)\n",
    "    except:\n",
    "        precip_type.append(\"none\")\n",
    "\n",
    "date\n",
    "\n",
    "dates = [dt.datetime.strftime(i, '%Y-%m-%d') for i in date]\n",
    "dates"
   ]
  },
  {
   "cell_type": "code",
   "execution_count": 5,
   "metadata": {},
   "outputs": [
    {
     "data": {
      "text/plain": [
       "Date                          object\n",
       "High Temp                    float64\n",
       "Low Temp                     float64\n",
       "Precipitation Probability    float64\n",
       "Precipitation Intensity      float64\n",
       "Precipitation Type            object\n",
       "dtype: object"
      ]
     },
     "execution_count": 5,
     "metadata": {},
     "output_type": "execute_result"
    }
   ],
   "source": [
    "df = pd.DataFrame({\"Date\": dates, \n",
    "                     \"High Temp\": temp_high, \n",
    "                     \"Low Temp\": temp_low, \n",
    "                     \"Precipitation Probability\": precip_perc,\n",
    "                     \"Precipitation Intensity\": precip_int,\n",
    "                     \"Precipitation Type\": precip_type\n",
    "                    })\n",
    "df.dtypes"
   ]
  },
  {
   "cell_type": "code",
   "execution_count": 6,
   "metadata": {},
   "outputs": [
    {
     "data": {
      "text/plain": [
       "Date         object\n",
       "Under $50     int64\n",
       "$50-100       int64\n",
       "$100-150      int64\n",
       "$150-200      int64\n",
       "$200-250      int64\n",
       "dtype: object"
      ]
     },
     "execution_count": 6,
     "metadata": {},
     "output_type": "execute_result"
    }
   ],
   "source": [
    "Seattle_airbnb.dtypes"
   ]
  },
  {
   "cell_type": "code",
   "execution_count": 7,
   "metadata": {},
   "outputs": [
    {
     "data": {
      "text/html": [
       "<div>\n",
       "<style scoped>\n",
       "    .dataframe tbody tr th:only-of-type {\n",
       "        vertical-align: middle;\n",
       "    }\n",
       "\n",
       "    .dataframe tbody tr th {\n",
       "        vertical-align: top;\n",
       "    }\n",
       "\n",
       "    .dataframe thead th {\n",
       "        text-align: right;\n",
       "    }\n",
       "</style>\n",
       "<table border=\"1\" class=\"dataframe\">\n",
       "  <thead>\n",
       "    <tr style=\"text-align: right;\">\n",
       "      <th></th>\n",
       "      <th>Date</th>\n",
       "      <th>High Temp</th>\n",
       "      <th>Low Temp</th>\n",
       "      <th>Precipitation Probability</th>\n",
       "      <th>Precipitation Intensity</th>\n",
       "      <th>Precipitation Type</th>\n",
       "      <th>Under $50</th>\n",
       "      <th>$50-100</th>\n",
       "      <th>$100-150</th>\n",
       "      <th>$150-200</th>\n",
       "      <th>$200-250</th>\n",
       "      <th>City</th>\n",
       "    </tr>\n",
       "  </thead>\n",
       "  <tbody>\n",
       "    <tr>\n",
       "      <th>0</th>\n",
       "      <td>2018-12-22</td>\n",
       "      <td>47.67</td>\n",
       "      <td>44.85</td>\n",
       "      <td>0.84</td>\n",
       "      <td>0.0136</td>\n",
       "      <td>rain</td>\n",
       "      <td>357</td>\n",
       "      <td>1268</td>\n",
       "      <td>1051</td>\n",
       "      <td>571</td>\n",
       "      <td>277</td>\n",
       "      <td>Seattle</td>\n",
       "    </tr>\n",
       "    <tr>\n",
       "      <th>1</th>\n",
       "      <td>2018-12-23</td>\n",
       "      <td>47.36</td>\n",
       "      <td>38.78</td>\n",
       "      <td>0.94</td>\n",
       "      <td>0.0102</td>\n",
       "      <td>rain</td>\n",
       "      <td>375</td>\n",
       "      <td>1166</td>\n",
       "      <td>982</td>\n",
       "      <td>531</td>\n",
       "      <td>285</td>\n",
       "      <td>Seattle</td>\n",
       "    </tr>\n",
       "    <tr>\n",
       "      <th>2</th>\n",
       "      <td>2018-12-24</td>\n",
       "      <td>45.89</td>\n",
       "      <td>35.84</td>\n",
       "      <td>0.83</td>\n",
       "      <td>0.0069</td>\n",
       "      <td>rain</td>\n",
       "      <td>355</td>\n",
       "      <td>1119</td>\n",
       "      <td>977</td>\n",
       "      <td>545</td>\n",
       "      <td>282</td>\n",
       "      <td>Seattle</td>\n",
       "    </tr>\n",
       "    <tr>\n",
       "      <th>3</th>\n",
       "      <td>2018-12-25</td>\n",
       "      <td>44.67</td>\n",
       "      <td>36.63</td>\n",
       "      <td>0.43</td>\n",
       "      <td>0.0016</td>\n",
       "      <td>rain</td>\n",
       "      <td>342</td>\n",
       "      <td>1095</td>\n",
       "      <td>958</td>\n",
       "      <td>532</td>\n",
       "      <td>286</td>\n",
       "      <td>Seattle</td>\n",
       "    </tr>\n",
       "    <tr>\n",
       "      <th>4</th>\n",
       "      <td>2018-12-26</td>\n",
       "      <td>45.72</td>\n",
       "      <td>37.93</td>\n",
       "      <td>0.88</td>\n",
       "      <td>0.0073</td>\n",
       "      <td>rain</td>\n",
       "      <td>353</td>\n",
       "      <td>1145</td>\n",
       "      <td>981</td>\n",
       "      <td>540</td>\n",
       "      <td>310</td>\n",
       "      <td>Seattle</td>\n",
       "    </tr>\n",
       "    <tr>\n",
       "      <th>5</th>\n",
       "      <td>2018-12-27</td>\n",
       "      <td>45.25</td>\n",
       "      <td>35.49</td>\n",
       "      <td>0.53</td>\n",
       "      <td>0.0019</td>\n",
       "      <td>rain</td>\n",
       "      <td>362</td>\n",
       "      <td>1148</td>\n",
       "      <td>930</td>\n",
       "      <td>565</td>\n",
       "      <td>327</td>\n",
       "      <td>Seattle</td>\n",
       "    </tr>\n",
       "    <tr>\n",
       "      <th>6</th>\n",
       "      <td>2018-12-28</td>\n",
       "      <td>45.77</td>\n",
       "      <td>39.63</td>\n",
       "      <td>0.72</td>\n",
       "      <td>0.0047</td>\n",
       "      <td>rain</td>\n",
       "      <td>330</td>\n",
       "      <td>1057</td>\n",
       "      <td>946</td>\n",
       "      <td>543</td>\n",
       "      <td>386</td>\n",
       "      <td>Seattle</td>\n",
       "    </tr>\n",
       "    <tr>\n",
       "      <th>7</th>\n",
       "      <td>2018-12-29</td>\n",
       "      <td>54.08</td>\n",
       "      <td>46.50</td>\n",
       "      <td>0.96</td>\n",
       "      <td>0.0153</td>\n",
       "      <td>rain</td>\n",
       "      <td>319</td>\n",
       "      <td>1070</td>\n",
       "      <td>938</td>\n",
       "      <td>545</td>\n",
       "      <td>396</td>\n",
       "      <td>Seattle</td>\n",
       "    </tr>\n",
       "  </tbody>\n",
       "</table>\n",
       "</div>"
      ],
      "text/plain": [
       "         Date  High Temp  Low Temp  Precipitation Probability  \\\n",
       "0  2018-12-22      47.67     44.85                       0.84   \n",
       "1  2018-12-23      47.36     38.78                       0.94   \n",
       "2  2018-12-24      45.89     35.84                       0.83   \n",
       "3  2018-12-25      44.67     36.63                       0.43   \n",
       "4  2018-12-26      45.72     37.93                       0.88   \n",
       "5  2018-12-27      45.25     35.49                       0.53   \n",
       "6  2018-12-28      45.77     39.63                       0.72   \n",
       "7  2018-12-29      54.08     46.50                       0.96   \n",
       "\n",
       "   Precipitation Intensity Precipitation Type  Under $50  $50-100  $100-150  \\\n",
       "0                   0.0136               rain        357     1268      1051   \n",
       "1                   0.0102               rain        375     1166       982   \n",
       "2                   0.0069               rain        355     1119       977   \n",
       "3                   0.0016               rain        342     1095       958   \n",
       "4                   0.0073               rain        353     1145       981   \n",
       "5                   0.0019               rain        362     1148       930   \n",
       "6                   0.0047               rain        330     1057       946   \n",
       "7                   0.0153               rain        319     1070       938   \n",
       "\n",
       "   $150-200  $200-250     City  \n",
       "0       571       277  Seattle  \n",
       "1       531       285  Seattle  \n",
       "2       545       282  Seattle  \n",
       "3       532       286  Seattle  \n",
       "4       540       310  Seattle  \n",
       "5       565       327  Seattle  \n",
       "6       543       386  Seattle  \n",
       "7       545       396  Seattle  "
      ]
     },
     "execution_count": 7,
     "metadata": {},
     "output_type": "execute_result"
    }
   ],
   "source": [
    "Seattle_table = pd.merge(df, Seattle_airbnb, on=\"Date\")\n",
    "Seattle_table[\"City\"] = \"Seattle\"\n",
    "Seattle_table\n"
   ]
  },
  {
   "cell_type": "code",
   "execution_count": null,
   "metadata": {},
   "outputs": [],
   "source": []
  }
 ],
 "metadata": {
  "kernelspec": {
   "display_name": "Python 3",
   "language": "python",
   "name": "python3"
  },
  "language_info": {
   "codemirror_mode": {
    "name": "ipython",
    "version": 3
   },
   "file_extension": ".py",
   "mimetype": "text/x-python",
   "name": "python",
   "nbconvert_exporter": "python",
   "pygments_lexer": "ipython3",
   "version": "3.6.5"
  }
 },
 "nbformat": 4,
 "nbformat_minor": 2
}
