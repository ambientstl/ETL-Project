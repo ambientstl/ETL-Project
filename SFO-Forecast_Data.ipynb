{
 "cells": [
  {
   "cell_type": "code",
   "execution_count": 1,
   "metadata": {},
   "outputs": [
    {
     "name": "stdout",
     "output_type": "stream",
     "text": [
      "importing Jupyter notebook from SFO_airbnb.ipynb\n"
     ]
    },
    {
     "name": "stderr",
     "output_type": "stream",
     "text": [
      "SFO_airbnb.ipynb:1: SettingWithCopyWarning: \n",
      "A value is trying to be set on a copy of a slice from a DataFrame.\n",
      "Try using .loc[row_indexer,col_indexer] = value instead\n",
      "\n",
      "See the caveats in the documentation: http://pandas.pydata.org/pandas-docs/stable/indexing.html#indexing-view-versus-copy\n",
      "  {\n",
      "SFO_airbnb.ipynb:1: SettingWithCopyWarning: \n",
      "A value is trying to be set on a copy of a slice from a DataFrame.\n",
      "Try using .loc[row_indexer,col_indexer] = value instead\n",
      "\n",
      "See the caveats in the documentation: http://pandas.pydata.org/pandas-docs/stable/indexing.html#indexing-view-versus-copy\n",
      "  {\n",
      "SFO_airbnb.ipynb:7: SettingWithCopyWarning: \n",
      "A value is trying to be set on a copy of a slice from a DataFrame.\n",
      "Try using .loc[row_indexer,col_indexer] = value instead\n",
      "\n",
      "See the caveats in the documentation: http://pandas.pydata.org/pandas-docs/stable/indexing.html#indexing-view-versus-copy\n",
      "  \"outputs\": [],\n"
     ]
    }
   ],
   "source": [
    "import requests\n",
    "import json\n",
    "import forecastio\n",
    "from pprint import pprint\n",
    "from geopy.geocoders import Nominatim\n",
    "import pandas as pd\n",
    "import import_ipynb\n",
    "from SFO_airbnb import SFO_airbnb\n",
    "import datetime as dt"
   ]
  },
  {
   "cell_type": "code",
   "execution_count": 2,
   "metadata": {},
   "outputs": [],
   "source": [
    "api_key = \"a36c8345cc74c469a50078545e4970de\""
   ]
  },
  {
   "cell_type": "code",
   "execution_count": 9,
   "metadata": {},
   "outputs": [
    {
     "data": {
      "text/plain": [
       "[37.7792808, -122.4192363]"
      ]
     },
     "execution_count": 9,
     "metadata": {},
     "output_type": "execute_result"
    }
   ],
   "source": [
    "geolocator = Nominatim(user_agent=\"ETL_Project\")\n",
    "\n",
    "location = geolocator.geocode(\"San Francisco\")\n",
    "\n",
    "SFO_coord = []\n",
    "SFO_coord.append(location.latitude)\n",
    "SFO_coord.append(location.longitude)\n",
    "\n",
    "SFO_coord"
   ]
  },
  {
   "cell_type": "code",
   "execution_count": 10,
   "metadata": {},
   "outputs": [
    {
     "name": "stdout",
     "output_type": "stream",
     "text": [
      "Light rain today and Monday, with high temperatures rising to 58°F on Sunday.\n",
      "rain\n",
      "56.76\n"
     ]
    }
   ],
   "source": [
    "forecast = forecastio.load_forecast(api_key, SFO_coord[0], SFO_coord[1])\n",
    "\n",
    "byDay = forecast.daily()\n",
    "print(byDay.summary)\n",
    "print(byDay.icon)\n",
    "print(byDay.data[4].temperatureHigh)"
   ]
  },
  {
   "cell_type": "code",
   "execution_count": 11,
   "metadata": {},
   "outputs": [
    {
     "data": {
      "text/plain": [
       "['2018-12-21',\n",
       " '2018-12-22',\n",
       " '2018-12-23',\n",
       " '2018-12-24',\n",
       " '2018-12-25',\n",
       " '2018-12-26',\n",
       " '2018-12-27',\n",
       " '2018-12-28']"
      ]
     },
     "execution_count": 11,
     "metadata": {},
     "output_type": "execute_result"
    }
   ],
   "source": [
    "temp_high = []\n",
    "temp_low = []\n",
    "precip_perc = []\n",
    "precip_type = []\n",
    "precip_int = []\n",
    "date = []\n",
    "\n",
    "for i in byDay.data:\n",
    "    date.append(i.time.date())\n",
    "    temp_high.append(i.temperatureHigh)\n",
    "    temp_low.append(i.temperatureLow)\n",
    "    precip_perc.append(i.precipProbability)\n",
    "    precip_int.append(i.precipIntensity)\n",
    "    try:\n",
    "        precip_type.append(i.precipType)\n",
    "    except:\n",
    "        precip_type.append(\"none\")\n",
    "\n",
    "date\n",
    "\n",
    "dates = [dt.datetime.strftime(i, '%Y-%m-%d') for i in date]\n",
    "dates"
   ]
  },
  {
   "cell_type": "code",
   "execution_count": 12,
   "metadata": {},
   "outputs": [
    {
     "data": {
      "text/plain": [
       "Date                          object\n",
       "High Temp                    float64\n",
       "Low Temp                     float64\n",
       "Precipitation Probability    float64\n",
       "Precipitation Intensity      float64\n",
       "Precipitation Type            object\n",
       "dtype: object"
      ]
     },
     "execution_count": 12,
     "metadata": {},
     "output_type": "execute_result"
    }
   ],
   "source": [
    "df = pd.DataFrame({\"Date\": dates, \n",
    "                     \"High Temp\": temp_high, \n",
    "                     \"Low Temp\": temp_low, \n",
    "                     \"Precipitation Probability\": precip_perc,\n",
    "                     \"Precipitation Intensity\": precip_int,\n",
    "                     \"Precipitation Type\": precip_type\n",
    "                    })\n",
    "df.dtypes"
   ]
  },
  {
   "cell_type": "code",
   "execution_count": 13,
   "metadata": {},
   "outputs": [
    {
     "data": {
      "text/plain": [
       "Date         object\n",
       "Under $50     int64\n",
       "$50-100       int64\n",
       "$100-150      int64\n",
       "$150-200      int64\n",
       "$200-250      int64\n",
       "dtype: object"
      ]
     },
     "execution_count": 13,
     "metadata": {},
     "output_type": "execute_result"
    }
   ],
   "source": [
    "SFO_airbnb.dtypes"
   ]
  },
  {
   "cell_type": "code",
   "execution_count": 14,
   "metadata": {},
   "outputs": [
    {
     "data": {
      "text/html": [
       "<div>\n",
       "<style scoped>\n",
       "    .dataframe tbody tr th:only-of-type {\n",
       "        vertical-align: middle;\n",
       "    }\n",
       "\n",
       "    .dataframe tbody tr th {\n",
       "        vertical-align: top;\n",
       "    }\n",
       "\n",
       "    .dataframe thead th {\n",
       "        text-align: right;\n",
       "    }\n",
       "</style>\n",
       "<table border=\"1\" class=\"dataframe\">\n",
       "  <thead>\n",
       "    <tr style=\"text-align: right;\">\n",
       "      <th></th>\n",
       "      <th>Date</th>\n",
       "      <th>High Temp</th>\n",
       "      <th>Low Temp</th>\n",
       "      <th>Precipitation Probability</th>\n",
       "      <th>Precipitation Intensity</th>\n",
       "      <th>Precipitation Type</th>\n",
       "      <th>Under $50</th>\n",
       "      <th>$50-100</th>\n",
       "      <th>$100-150</th>\n",
       "      <th>$150-200</th>\n",
       "      <th>$200-250</th>\n",
       "    </tr>\n",
       "  </thead>\n",
       "  <tbody>\n",
       "    <tr>\n",
       "      <th>0</th>\n",
       "      <td>2018-12-21</td>\n",
       "      <td>56.46</td>\n",
       "      <td>47.96</td>\n",
       "      <td>0.56</td>\n",
       "      <td>0.0026</td>\n",
       "      <td>rain</td>\n",
       "      <td>177</td>\n",
       "      <td>799</td>\n",
       "      <td>798</td>\n",
       "      <td>470</td>\n",
       "      <td>248</td>\n",
       "    </tr>\n",
       "    <tr>\n",
       "      <th>1</th>\n",
       "      <td>2018-12-22</td>\n",
       "      <td>55.70</td>\n",
       "      <td>49.13</td>\n",
       "      <td>0.09</td>\n",
       "      <td>0.0003</td>\n",
       "      <td>rain</td>\n",
       "      <td>178</td>\n",
       "      <td>778</td>\n",
       "      <td>751</td>\n",
       "      <td>466</td>\n",
       "      <td>243</td>\n",
       "    </tr>\n",
       "    <tr>\n",
       "      <th>2</th>\n",
       "      <td>2018-12-23</td>\n",
       "      <td>57.97</td>\n",
       "      <td>54.17</td>\n",
       "      <td>0.18</td>\n",
       "      <td>0.0003</td>\n",
       "      <td>rain</td>\n",
       "      <td>192</td>\n",
       "      <td>792</td>\n",
       "      <td>751</td>\n",
       "      <td>457</td>\n",
       "      <td>255</td>\n",
       "    </tr>\n",
       "    <tr>\n",
       "      <th>3</th>\n",
       "      <td>2018-12-24</td>\n",
       "      <td>56.94</td>\n",
       "      <td>47.59</td>\n",
       "      <td>0.68</td>\n",
       "      <td>0.0219</td>\n",
       "      <td>rain</td>\n",
       "      <td>182</td>\n",
       "      <td>774</td>\n",
       "      <td>721</td>\n",
       "      <td>450</td>\n",
       "      <td>241</td>\n",
       "    </tr>\n",
       "    <tr>\n",
       "      <th>4</th>\n",
       "      <td>2018-12-25</td>\n",
       "      <td>56.76</td>\n",
       "      <td>47.56</td>\n",
       "      <td>0.09</td>\n",
       "      <td>0.0001</td>\n",
       "      <td>rain</td>\n",
       "      <td>188</td>\n",
       "      <td>763</td>\n",
       "      <td>724</td>\n",
       "      <td>463</td>\n",
       "      <td>241</td>\n",
       "    </tr>\n",
       "    <tr>\n",
       "      <th>5</th>\n",
       "      <td>2018-12-26</td>\n",
       "      <td>57.45</td>\n",
       "      <td>47.35</td>\n",
       "      <td>0.00</td>\n",
       "      <td>0.0000</td>\n",
       "      <td>none</td>\n",
       "      <td>191</td>\n",
       "      <td>779</td>\n",
       "      <td>755</td>\n",
       "      <td>477</td>\n",
       "      <td>235</td>\n",
       "    </tr>\n",
       "    <tr>\n",
       "      <th>6</th>\n",
       "      <td>2018-12-27</td>\n",
       "      <td>57.30</td>\n",
       "      <td>46.79</td>\n",
       "      <td>0.11</td>\n",
       "      <td>0.0002</td>\n",
       "      <td>rain</td>\n",
       "      <td>195</td>\n",
       "      <td>774</td>\n",
       "      <td>761</td>\n",
       "      <td>493</td>\n",
       "      <td>244</td>\n",
       "    </tr>\n",
       "    <tr>\n",
       "      <th>7</th>\n",
       "      <td>2018-12-28</td>\n",
       "      <td>56.52</td>\n",
       "      <td>45.49</td>\n",
       "      <td>0.00</td>\n",
       "      <td>0.0000</td>\n",
       "      <td>none</td>\n",
       "      <td>191</td>\n",
       "      <td>720</td>\n",
       "      <td>744</td>\n",
       "      <td>466</td>\n",
       "      <td>244</td>\n",
       "    </tr>\n",
       "  </tbody>\n",
       "</table>\n",
       "</div>"
      ],
      "text/plain": [
       "         Date  High Temp  Low Temp  Precipitation Probability  \\\n",
       "0  2018-12-21      56.46     47.96                       0.56   \n",
       "1  2018-12-22      55.70     49.13                       0.09   \n",
       "2  2018-12-23      57.97     54.17                       0.18   \n",
       "3  2018-12-24      56.94     47.59                       0.68   \n",
       "4  2018-12-25      56.76     47.56                       0.09   \n",
       "5  2018-12-26      57.45     47.35                       0.00   \n",
       "6  2018-12-27      57.30     46.79                       0.11   \n",
       "7  2018-12-28      56.52     45.49                       0.00   \n",
       "\n",
       "   Precipitation Intensity Precipitation Type  Under $50  $50-100  $100-150  \\\n",
       "0                   0.0026               rain        177      799       798   \n",
       "1                   0.0003               rain        178      778       751   \n",
       "2                   0.0003               rain        192      792       751   \n",
       "3                   0.0219               rain        182      774       721   \n",
       "4                   0.0001               rain        188      763       724   \n",
       "5                   0.0000               none        191      779       755   \n",
       "6                   0.0002               rain        195      774       761   \n",
       "7                   0.0000               none        191      720       744   \n",
       "\n",
       "   $150-200  $200-250  \n",
       "0       470       248  \n",
       "1       466       243  \n",
       "2       457       255  \n",
       "3       450       241  \n",
       "4       463       241  \n",
       "5       477       235  \n",
       "6       493       244  \n",
       "7       466       244  "
      ]
     },
     "execution_count": 14,
     "metadata": {},
     "output_type": "execute_result"
    }
   ],
   "source": [
    "SFO_table = pd.merge(df, SFO_airbnb, on=\"Date\")\n",
    "SFO_table"
   ]
  },
  {
   "cell_type": "code",
   "execution_count": null,
   "metadata": {},
   "outputs": [],
   "source": []
  }
 ],
 "metadata": {
  "kernelspec": {
   "display_name": "Python 3",
   "language": "python",
   "name": "python3"
  },
  "language_info": {
   "codemirror_mode": {
    "name": "ipython",
    "version": 3
   },
   "file_extension": ".py",
   "mimetype": "text/x-python",
   "name": "python",
   "nbconvert_exporter": "python",
   "pygments_lexer": "ipython3",
   "version": "3.6.5"
  }
 },
 "nbformat": 4,
 "nbformat_minor": 2
}
